{
 "cells": [
  {
   "cell_type": "code",
   "execution_count": 1,
   "id": "56aa9a7e",
   "metadata": {},
   "outputs": [
    {
     "name": "stdout",
     "output_type": "stream",
     "text": [
      "True\n"
     ]
    }
   ],
   "source": [
    "import torch\n",
    "\n",
    "print(torch.cuda.is_available())"
   ]
  },
  {
   "cell_type": "code",
   "execution_count": 2,
   "id": "b1cf53e1",
   "metadata": {},
   "outputs": [],
   "source": [
    "import os\n",
    "os.chdir('C:/Users/KHU/workspace_mj/X_ray')"
   ]
  },
  {
   "cell_type": "code",
   "execution_count": 3,
   "id": "b52fd8a2",
   "metadata": {},
   "outputs": [],
   "source": [
    "BATCH_SIZE = 8\n",
    "IMGSZ = 640\n",
    "EPOCH = 30\n",
    "save = True\n",
    "val = True"
   ]
  },
  {
   "cell_type": "code",
   "execution_count": 4,
   "id": "9a143df9",
   "metadata": {
    "scrolled": true
   },
   "outputs": [
    {
     "name": "stdout",
     "output_type": "stream",
     "text": [
      "Ultralytics YOLOv8.1.2 🚀 Python-3.9.13 torch-1.13.1+cu116 CUDA:0 (NVIDIA GeForce RTX 3090, 24576MiB)\n",
      "WARNING ⚠️ Upgrade to torch>=2.0.0 for deterministic training.\n",
      "\u001b[34m\u001b[1mengine\\trainer: \u001b[0mtask=detect, mode=train, model=yolov8s.pt, data=./data_ver2/data.yaml, epochs=30, time=None, patience=5, batch=8, imgsz=640, save=True, save_period=-1, cache=False, device=None, workers=8, project=None, name=train8, exist_ok=False, pretrained=True, optimizer=auto, verbose=True, seed=0, deterministic=True, single_cls=False, rect=False, cos_lr=False, close_mosaic=0, resume=False, amp=True, fraction=1.0, profile=False, freeze=None, multi_scale=False, overlap_mask=True, mask_ratio=4, dropout=0.0, val=True, split=val, save_json=False, save_hybrid=False, conf=None, iou=0.7, max_det=300, half=False, dnn=False, plots=True, source=None, vid_stride=1, stream_buffer=False, visualize=False, augment=False, agnostic_nms=False, classes=None, retina_masks=False, embed=None, show=False, save_frames=False, save_txt=False, save_conf=False, save_crop=False, show_labels=True, show_conf=True, show_boxes=True, line_width=None, format=torchscript, keras=False, optimize=False, int8=False, dynamic=False, simplify=False, opset=None, workspace=4, nms=False, lr0=0.001, lrf=0.01, momentum=0.937, weight_decay=0.0005, warmup_epochs=3.0, warmup_momentum=0.8, warmup_bias_lr=0.1, box=7.5, cls=0.5, dfl=1.5, pose=12.0, kobj=1.0, label_smoothing=0.0, nbs=64, hsv_h=0.015, hsv_s=0.7, hsv_v=0.4, degrees=0.0, translate=0.1, scale=0.5, shear=0.0, perspective=0.0, flipud=0.0, fliplr=0.5, mosaic=1.0, mixup=0.0, copy_paste=0.0, auto_augment=randaugment, erasing=0.4, crop_fraction=1.0, cfg=None, tracker=botsort.yaml, save_dir=runs\\detect\\train8\n",
      "Overriding model.yaml nc=80 with nc=65\n",
      "\n",
      "                   from  n    params  module                                       arguments                     \n",
      "  0                  -1  1       928  ultralytics.nn.modules.conv.Conv             [3, 32, 3, 2]                 \n",
      "  1                  -1  1     18560  ultralytics.nn.modules.conv.Conv             [32, 64, 3, 2]                \n",
      "  2                  -1  1     29056  ultralytics.nn.modules.block.C2f             [64, 64, 1, True]             \n",
      "  3                  -1  1     73984  ultralytics.nn.modules.conv.Conv             [64, 128, 3, 2]               \n",
      "  4                  -1  2    197632  ultralytics.nn.modules.block.C2f             [128, 128, 2, True]           \n",
      "  5                  -1  1    295424  ultralytics.nn.modules.conv.Conv             [128, 256, 3, 2]              \n",
      "  6                  -1  2    788480  ultralytics.nn.modules.block.C2f             [256, 256, 2, True]           \n",
      "  7                  -1  1   1180672  ultralytics.nn.modules.conv.Conv             [256, 512, 3, 2]              \n",
      "  8                  -1  1   1838080  ultralytics.nn.modules.block.C2f             [512, 512, 1, True]           \n",
      "  9                  -1  1    656896  ultralytics.nn.modules.block.SPPF            [512, 512, 5]                 \n",
      " 10                  -1  1         0  torch.nn.modules.upsampling.Upsample         [None, 2, 'nearest']          \n",
      " 11             [-1, 6]  1         0  ultralytics.nn.modules.conv.Concat           [1]                           \n",
      " 12                  -1  1    591360  ultralytics.nn.modules.block.C2f             [768, 256, 1]                 \n",
      " 13                  -1  1         0  torch.nn.modules.upsampling.Upsample         [None, 2, 'nearest']          \n",
      " 14             [-1, 4]  1         0  ultralytics.nn.modules.conv.Concat           [1]                           \n",
      " 15                  -1  1    148224  ultralytics.nn.modules.block.C2f             [384, 128, 1]                 \n",
      " 16                  -1  1    147712  ultralytics.nn.modules.conv.Conv             [128, 128, 3, 2]              \n",
      " 17            [-1, 12]  1         0  ultralytics.nn.modules.conv.Concat           [1]                           \n",
      " 18                  -1  1    493056  ultralytics.nn.modules.block.C2f             [384, 256, 1]                 \n",
      " 19                  -1  1    590336  ultralytics.nn.modules.conv.Conv             [256, 256, 3, 2]              \n",
      " 20             [-1, 9]  1         0  ultralytics.nn.modules.conv.Concat           [1]                           \n",
      " 21                  -1  1   1969152  ultralytics.nn.modules.block.C2f             [768, 512, 1]                 \n",
      " 22        [15, 18, 21]  1   2141203  ultralytics.nn.modules.head.Detect           [65, [128, 256, 512]]         \n",
      "Model summary: 225 layers, 11160755 parameters, 11160739 gradients, 28.8 GFLOPs\n",
      "\n",
      "Transferred 349/355 items from pretrained weights\n",
      "Freezing layer 'model.22.dfl.conv.weight'\n",
      "\u001b[34m\u001b[1mAMP: \u001b[0mrunning Automatic Mixed Precision (AMP) checks with YOLOv8n...\n",
      "\u001b[34m\u001b[1mAMP: \u001b[0mchecks passed ✅\n"
     ]
    },
    {
     "name": "stderr",
     "output_type": "stream",
     "text": [
      "\u001b[34m\u001b[1mtrain: \u001b[0mScanning C:\\Users\\KHU\\workspace_mj\\X_ray\\data_ver2\\train.cache... 65468 images, 189 backgrounds, 0 corrupt: 100%\u001b[0m\n"
     ]
    },
    {
     "name": "stdout",
     "output_type": "stream",
     "text": [
      "\u001b[34m\u001b[1malbumentations: \u001b[0mBlur(p=0.01, blur_limit=(3, 7)), MedianBlur(p=0.01, blur_limit=(3, 7)), ToGray(p=0.01), CLAHE(p=0.01, clip_limit=(1, 4.0), tile_grid_size=(8, 8))\n"
     ]
    },
    {
     "name": "stderr",
     "output_type": "stream",
     "text": [
      "\u001b[34m\u001b[1mval: \u001b[0mScanning C:\\Users\\KHU\\workspace_mj\\X_ray\\data_ver2\\val.cache... 16368 images, 54 backgrounds, 0 corrupt: 100%|████\u001b[0m\n"
     ]
    },
    {
     "name": "stdout",
     "output_type": "stream",
     "text": [
      "Plotting labels to runs\\detect\\train8\\labels.jpg... \n",
      "\u001b[34m\u001b[1moptimizer:\u001b[0m 'optimizer=auto' found, ignoring 'lr0=0.001' and 'momentum=0.937' and determining best 'optimizer', 'lr0' and 'momentum' automatically... \n",
      "\u001b[34m\u001b[1moptimizer:\u001b[0m SGD(lr=0.01, momentum=0.9) with parameter groups 57 weight(decay=0.0), 64 weight(decay=0.0005), 63 bias(decay=0.0)\n",
      "30 epochs...\n",
      "\n",
      "      Epoch    GPU_mem   box_loss   cls_loss   dfl_loss  Instances       Size\n"
     ]
    },
    {
     "name": "stderr",
     "output_type": "stream",
     "text": [
      "       1/30      2.16G      1.165      3.166      1.154         10        640: 100%|██████████| 8184/8184 [17:56<00:00,\n",
      "                 Class     Images  Instances      Box(P          R      mAP50  mAP50-95): 100%|██████████| 1023/1023 [0\n"
     ]
    },
    {
     "name": "stdout",
     "output_type": "stream",
     "text": [
      "                   all      16368      23153      0.498      0.367      0.334      0.259\n",
      "\n",
      "      Epoch    GPU_mem   box_loss   cls_loss   dfl_loss  Instances       Size\n"
     ]
    },
    {
     "name": "stderr",
     "output_type": "stream",
     "text": [
      "       2/30      2.28G      1.115      2.066      1.113          4        640: 100%|██████████| 8184/8184 [16:35<00:00,\n",
      "                 Class     Images  Instances      Box(P          R      mAP50  mAP50-95): 100%|██████████| 1023/1023 [0\n"
     ]
    },
    {
     "name": "stdout",
     "output_type": "stream",
     "text": [
      "                   all      16368      23153      0.558      0.433      0.443      0.344\n",
      "\n",
      "      Epoch    GPU_mem   box_loss   cls_loss   dfl_loss  Instances       Size\n"
     ]
    },
    {
     "name": "stderr",
     "output_type": "stream",
     "text": [
      "       3/30      2.27G      1.175      2.059      1.146          8        640: 100%|██████████| 8184/8184 [16:01<00:00,\n",
      "                 Class     Images  Instances      Box(P          R      mAP50  mAP50-95): 100%|██████████| 1023/1023 [0\n"
     ]
    },
    {
     "name": "stdout",
     "output_type": "stream",
     "text": [
      "                   all      16368      23153      0.559       0.44      0.457      0.351\n",
      "\n",
      "      Epoch    GPU_mem   box_loss   cls_loss   dfl_loss  Instances       Size\n"
     ]
    },
    {
     "name": "stderr",
     "output_type": "stream",
     "text": [
      "       4/30      2.28G      1.163      1.986      1.152         14        640: 100%|██████████| 8184/8184 [15:50<00:00,\n",
      "                 Class     Images  Instances      Box(P          R      mAP50  mAP50-95): 100%|██████████| 1023/1023 [0\n"
     ]
    },
    {
     "name": "stdout",
     "output_type": "stream",
     "text": [
      "                   all      16368      23153        0.6      0.496       0.54      0.423\n",
      "\n",
      "      Epoch    GPU_mem   box_loss   cls_loss   dfl_loss  Instances       Size\n"
     ]
    },
    {
     "name": "stderr",
     "output_type": "stream",
     "text": [
      "       5/30      2.27G      1.082      1.762      1.116         11        640: 100%|██████████| 8184/8184 [15:51<00:00,\n",
      "                 Class     Images  Instances      Box(P          R      mAP50  mAP50-95): 100%|██████████| 1023/1023 [0\n"
     ]
    },
    {
     "name": "stdout",
     "output_type": "stream",
     "text": [
      "                   all      16368      23153      0.673      0.576      0.634      0.504\n",
      "\n",
      "      Epoch    GPU_mem   box_loss   cls_loss   dfl_loss  Instances       Size\n"
     ]
    },
    {
     "name": "stderr",
     "output_type": "stream",
     "text": [
      "       6/30      2.26G      1.025      1.603      1.089          6        640: 100%|██████████| 8184/8184 [15:48<00:00,\n",
      "                 Class     Images  Instances      Box(P          R      mAP50  mAP50-95): 100%|██████████| 1023/1023 [0\n"
     ]
    },
    {
     "name": "stdout",
     "output_type": "stream",
     "text": [
      "                   all      16368      23153      0.732      0.614      0.686      0.553\n",
      "\n",
      "      Epoch    GPU_mem   box_loss   cls_loss   dfl_loss  Instances       Size\n"
     ]
    },
    {
     "name": "stderr",
     "output_type": "stream",
     "text": [
      "       7/30      2.26G     0.9816      1.492      1.068         13        640: 100%|██████████| 8184/8184 [15:48<00:00,\n",
      "                 Class     Images  Instances      Box(P          R      mAP50  mAP50-95): 100%|██████████| 1023/1023 [0\n"
     ]
    },
    {
     "name": "stdout",
     "output_type": "stream",
     "text": [
      "                   all      16368      23153      0.751      0.658      0.728      0.592\n",
      "\n",
      "      Epoch    GPU_mem   box_loss   cls_loss   dfl_loss  Instances       Size\n"
     ]
    },
    {
     "name": "stderr",
     "output_type": "stream",
     "text": [
      "       8/30      2.26G     0.9557      1.403      1.055         11        640: 100%|██████████| 8184/8184 [14:12<00:00,\n",
      "                 Class     Images  Instances      Box(P          R      mAP50  mAP50-95): 100%|██████████| 1023/1023 [0\n"
     ]
    },
    {
     "name": "stdout",
     "output_type": "stream",
     "text": [
      "                   all      16368      23153      0.782       0.68       0.76       0.62\n",
      "\n",
      "      Epoch    GPU_mem   box_loss   cls_loss   dfl_loss  Instances       Size\n"
     ]
    },
    {
     "name": "stderr",
     "output_type": "stream",
     "text": [
      "       9/30      2.26G     0.9279      1.329      1.041          6        640: 100%|██████████| 8184/8184 [15:54<00:00,\n",
      "                 Class     Images  Instances      Box(P          R      mAP50  mAP50-95): 100%|██████████| 1023/1023 [0\n"
     ]
    },
    {
     "name": "stdout",
     "output_type": "stream",
     "text": [
      "                   all      16368      23153      0.788      0.702       0.78      0.639\n",
      "\n",
      "      Epoch    GPU_mem   box_loss   cls_loss   dfl_loss  Instances       Size\n"
     ]
    },
    {
     "name": "stderr",
     "output_type": "stream",
     "text": [
      "      10/30      2.26G     0.9096      1.274      1.032         13        640: 100%|██████████| 8184/8184 [15:51<00:00,\n",
      "                 Class     Images  Instances      Box(P          R      mAP50  mAP50-95): 100%|██████████| 1023/1023 [0\n"
     ]
    },
    {
     "name": "stdout",
     "output_type": "stream",
     "text": [
      "                   all      16368      23153       0.82      0.709      0.796      0.654\n",
      "\n",
      "      Epoch    GPU_mem   box_loss   cls_loss   dfl_loss  Instances       Size\n"
     ]
    },
    {
     "name": "stderr",
     "output_type": "stream",
     "text": [
      "      11/30      2.25G     0.8913      1.223      1.023          8        640: 100%|██████████| 8184/8184 [15:49<00:00,\n",
      "                 Class     Images  Instances      Box(P          R      mAP50  mAP50-95): 100%|██████████| 1023/1023 [0\n"
     ]
    },
    {
     "name": "stdout",
     "output_type": "stream",
     "text": [
      "                   all      16368      23153       0.83      0.731      0.811      0.668\n",
      "\n",
      "      Epoch    GPU_mem   box_loss   cls_loss   dfl_loss  Instances       Size\n"
     ]
    },
    {
     "name": "stderr",
     "output_type": "stream",
     "text": [
      "      12/30      2.26G     0.8762      1.178      1.018         16        640: 100%|██████████| 8184/8184 [15:49<00:00,\n",
      "                 Class     Images  Instances      Box(P          R      mAP50  mAP50-95): 100%|██████████| 1023/1023 [0\n"
     ]
    },
    {
     "name": "stdout",
     "output_type": "stream",
     "text": [
      "                   all      16368      23153      0.842      0.734       0.82      0.677\n",
      "\n",
      "      Epoch    GPU_mem   box_loss   cls_loss   dfl_loss  Instances       Size\n"
     ]
    },
    {
     "name": "stderr",
     "output_type": "stream",
     "text": [
      "      13/30      2.25G     0.8634      1.133      1.011          8        640: 100%|██████████| 8184/8184 [15:52<00:00,\n",
      "                 Class     Images  Instances      Box(P          R      mAP50  mAP50-95): 100%|██████████| 1023/1023 [0\n"
     ]
    },
    {
     "name": "stdout",
     "output_type": "stream",
     "text": [
      "                   all      16368      23153      0.847      0.742      0.828      0.684\n",
      "\n",
      "      Epoch    GPU_mem   box_loss   cls_loss   dfl_loss  Instances       Size\n"
     ]
    },
    {
     "name": "stderr",
     "output_type": "stream",
     "text": [
      "      14/30      2.25G     0.8468      1.095      1.002         10        640: 100%|██████████| 8184/8184 [15:50<00:00,\n",
      "                 Class     Images  Instances      Box(P          R      mAP50  mAP50-95): 100%|██████████| 1023/1023 [0\n"
     ]
    },
    {
     "name": "stdout",
     "output_type": "stream",
     "text": [
      "                   all      16368      23153      0.856      0.742      0.832       0.69\n",
      "\n",
      "      Epoch    GPU_mem   box_loss   cls_loss   dfl_loss  Instances       Size\n"
     ]
    },
    {
     "name": "stderr",
     "output_type": "stream",
     "text": [
      "      15/30      2.25G     0.8335      1.055     0.9962          9        640: 100%|██████████| 8184/8184 [15:51<00:00,\n",
      "                 Class     Images  Instances      Box(P          R      mAP50  mAP50-95): 100%|██████████| 1023/1023 [0\n"
     ]
    },
    {
     "name": "stdout",
     "output_type": "stream",
     "text": [
      "                   all      16368      23153      0.846      0.758      0.837      0.694\n",
      "\n",
      "      Epoch    GPU_mem   box_loss   cls_loss   dfl_loss  Instances       Size\n"
     ]
    },
    {
     "name": "stderr",
     "output_type": "stream",
     "text": [
      "      16/30      2.25G      0.821      1.019     0.9894          8        640: 100%|██████████| 8184/8184 [15:48<00:00,\n",
      "                 Class     Images  Instances      Box(P          R      mAP50  mAP50-95): 100%|██████████| 1023/1023 [0\n"
     ]
    },
    {
     "name": "stdout",
     "output_type": "stream",
     "text": [
      "                   all      16368      23153      0.859      0.757      0.841        0.7\n",
      "\n",
      "      Epoch    GPU_mem   box_loss   cls_loss   dfl_loss  Instances       Size\n"
     ]
    },
    {
     "name": "stderr",
     "output_type": "stream",
     "text": [
      "      17/30      2.25G     0.8096      0.991     0.9835         11        640: 100%|██████████| 8184/8184 [15:47<00:00,\n",
      "                 Class     Images  Instances      Box(P          R      mAP50  mAP50-95): 100%|██████████| 1023/1023 [0\n"
     ]
    },
    {
     "name": "stdout",
     "output_type": "stream",
     "text": [
      "                   all      16368      23153      0.855      0.767      0.846      0.705\n",
      "\n",
      "      Epoch    GPU_mem   box_loss   cls_loss   dfl_loss  Instances       Size\n"
     ]
    },
    {
     "name": "stderr",
     "output_type": "stream",
     "text": [
      "      18/30      2.25G     0.7963      0.958     0.9787         10        640: 100%|██████████| 8184/8184 [15:54<00:00,\n",
      "                 Class     Images  Instances      Box(P          R      mAP50  mAP50-95): 100%|██████████| 1023/1023 [0\n"
     ]
    },
    {
     "name": "stdout",
     "output_type": "stream",
     "text": [
      "                   all      16368      23153      0.857      0.773      0.851       0.71\n",
      "\n",
      "      Epoch    GPU_mem   box_loss   cls_loss   dfl_loss  Instances       Size\n"
     ]
    },
    {
     "name": "stderr",
     "output_type": "stream",
     "text": [
      "      19/30      2.25G     0.7892     0.9291     0.9754         11        640: 100%|██████████| 8184/8184 [15:55<00:00,\n",
      "                 Class     Images  Instances      Box(P          R      mAP50  mAP50-95): 100%|██████████| 1023/1023 [0\n"
     ]
    },
    {
     "name": "stdout",
     "output_type": "stream",
     "text": [
      "                   all      16368      23153      0.863      0.779      0.857      0.715\n",
      "\n",
      "      Epoch    GPU_mem   box_loss   cls_loss   dfl_loss  Instances       Size\n"
     ]
    },
    {
     "name": "stderr",
     "output_type": "stream",
     "text": [
      "      20/30      2.25G     0.7774     0.9032     0.9701          5        640: 100%|██████████| 8184/8184 [15:55<00:00,\n",
      "                 Class     Images  Instances      Box(P          R      mAP50  mAP50-95): 100%|██████████| 1023/1023 [0\n"
     ]
    },
    {
     "name": "stdout",
     "output_type": "stream",
     "text": [
      "                   all      16368      23153      0.877      0.779      0.863      0.721\n",
      "\n",
      "      Epoch    GPU_mem   box_loss   cls_loss   dfl_loss  Instances       Size\n"
     ]
    },
    {
     "name": "stderr",
     "output_type": "stream",
     "text": [
      "      21/30      2.25G     0.7664     0.8738      0.965          8        640: 100%|██████████| 8184/8184 [15:53<00:00,\n",
      "                 Class     Images  Instances      Box(P          R      mAP50  mAP50-95): 100%|██████████| 1023/1023 [0\n"
     ]
    },
    {
     "name": "stdout",
     "output_type": "stream",
     "text": [
      "                   all      16368      23153      0.878      0.792      0.868      0.725\n",
      "\n",
      "      Epoch    GPU_mem   box_loss   cls_loss   dfl_loss  Instances       Size\n"
     ]
    },
    {
     "name": "stderr",
     "output_type": "stream",
     "text": [
      "      22/30      2.25G     0.7552     0.8463     0.9585         12        640: 100%|██████████| 8184/8184 [15:49<00:00,\n",
      "                 Class     Images  Instances      Box(P          R      mAP50  mAP50-95): 100%|██████████| 1023/1023 [0\n"
     ]
    },
    {
     "name": "stdout",
     "output_type": "stream",
     "text": [
      "                   all      16368      23153      0.884      0.797      0.873       0.73\n",
      "\n",
      "      Epoch    GPU_mem   box_loss   cls_loss   dfl_loss  Instances       Size\n"
     ]
    },
    {
     "name": "stderr",
     "output_type": "stream",
     "text": [
      "      23/30      2.25G     0.7419      0.813     0.9531         11        640: 100%|██████████| 8184/8184 [15:52<00:00,\n",
      "                 Class     Images  Instances      Box(P          R      mAP50  mAP50-95): 100%|██████████| 1023/1023 [0\n"
     ]
    },
    {
     "name": "stdout",
     "output_type": "stream",
     "text": [
      "                   all      16368      23153      0.889      0.801      0.878      0.735\n",
      "\n",
      "      Epoch    GPU_mem   box_loss   cls_loss   dfl_loss  Instances       Size\n"
     ]
    },
    {
     "name": "stderr",
     "output_type": "stream",
     "text": [
      "      24/30      2.25G     0.7358     0.7968       0.95          6        640: 100%|██████████| 8184/8184 [15:54<00:00,\n",
      "                 Class     Images  Instances      Box(P          R      mAP50  mAP50-95): 100%|██████████| 1023/1023 [0\n"
     ]
    },
    {
     "name": "stdout",
     "output_type": "stream",
     "text": [
      "                   all      16368      23153      0.893      0.803      0.883       0.74\n",
      "\n",
      "      Epoch    GPU_mem   box_loss   cls_loss   dfl_loss  Instances       Size\n"
     ]
    },
    {
     "name": "stderr",
     "output_type": "stream",
     "text": [
      "      25/30      2.25G     0.7213     0.7656     0.9451          9        640: 100%|██████████| 8184/8184 [15:56<00:00,\n",
      "                 Class     Images  Instances      Box(P          R      mAP50  mAP50-95): 100%|██████████| 1023/1023 [0\n"
     ]
    },
    {
     "name": "stdout",
     "output_type": "stream",
     "text": [
      "                   all      16368      23153      0.897      0.807      0.887      0.745\n",
      "\n",
      "      Epoch    GPU_mem   box_loss   cls_loss   dfl_loss  Instances       Size\n"
     ]
    },
    {
     "name": "stderr",
     "output_type": "stream",
     "text": [
      "      26/30      2.25G     0.7094     0.7372     0.9388          4        640: 100%|██████████| 8184/8184 [15:53<00:00,\n",
      "                 Class     Images  Instances      Box(P          R      mAP50  mAP50-95): 100%|██████████| 1023/1023 [0\n"
     ]
    },
    {
     "name": "stdout",
     "output_type": "stream",
     "text": [
      "                   all      16368      23153      0.905      0.809      0.891      0.749\n",
      "\n",
      "      Epoch    GPU_mem   box_loss   cls_loss   dfl_loss  Instances       Size\n"
     ]
    },
    {
     "name": "stderr",
     "output_type": "stream",
     "text": [
      "      27/30      2.25G     0.6991     0.7146     0.9353          5        640: 100%|██████████| 8184/8184 [15:53<00:00,\n",
      "                 Class     Images  Instances      Box(P          R      mAP50  mAP50-95): 100%|██████████| 1023/1023 [0\n"
     ]
    },
    {
     "name": "stdout",
     "output_type": "stream",
     "text": [
      "                   all      16368      23153      0.904      0.816      0.895      0.754\n",
      "\n",
      "      Epoch    GPU_mem   box_loss   cls_loss   dfl_loss  Instances       Size\n"
     ]
    },
    {
     "name": "stderr",
     "output_type": "stream",
     "text": [
      "      28/30      2.25G     0.6884     0.6888     0.9316          9        640: 100%|██████████| 8184/8184 [15:58<00:00,\n",
      "                 Class     Images  Instances      Box(P          R      mAP50  mAP50-95): 100%|██████████| 1023/1023 [0\n"
     ]
    },
    {
     "name": "stdout",
     "output_type": "stream",
     "text": [
      "                   all      16368      23153      0.908       0.82      0.899      0.758\n",
      "\n",
      "      Epoch    GPU_mem   box_loss   cls_loss   dfl_loss  Instances       Size\n"
     ]
    },
    {
     "name": "stderr",
     "output_type": "stream",
     "text": [
      "      29/30      2.25G     0.6751     0.6617     0.9264         10        640: 100%|██████████| 8184/8184 [15:56<00:00,\n",
      "                 Class     Images  Instances      Box(P          R      mAP50  mAP50-95): 100%|██████████| 1023/1023 [0\n"
     ]
    },
    {
     "name": "stdout",
     "output_type": "stream",
     "text": [
      "                   all      16368      23153      0.905       0.83      0.903      0.762\n",
      "\n",
      "      Epoch    GPU_mem   box_loss   cls_loss   dfl_loss  Instances       Size\n"
     ]
    },
    {
     "name": "stderr",
     "output_type": "stream",
     "text": [
      "      30/30      2.25G     0.6663     0.6438     0.9237         12        640: 100%|██████████| 8184/8184 [15:55<00:00,\n",
      "                 Class     Images  Instances      Box(P          R      mAP50  mAP50-95): 100%|██████████| 1023/1023 [0\n"
     ]
    },
    {
     "name": "stdout",
     "output_type": "stream",
     "text": [
      "                   all      16368      23153      0.906      0.836      0.906      0.766\n",
      "\n",
      "30 epochs completed in 9.103 hours.\n",
      "Optimizer stripped from runs\\detect\\train8\\weights\\last.pt, 22.5MB\n",
      "Optimizer stripped from runs\\detect\\train8\\weights\\best.pt, 22.5MB\n",
      "\n",
      "Validating runs\\detect\\train8\\weights\\best.pt...\n",
      "Ultralytics YOLOv8.1.2 🚀 Python-3.9.13 torch-1.13.1+cu116 CUDA:0 (NVIDIA GeForce RTX 3090, 24576MiB)\n",
      "Model summary (fused): 168 layers, 11150739 parameters, 0 gradients, 28.6 GFLOPs\n"
     ]
    },
    {
     "name": "stderr",
     "output_type": "stream",
     "text": [
      "                 Class     Images  Instances      Box(P          R      mAP50  mAP50-95): 100%|██████████| 1023/1023 [0\n"
     ]
    },
    {
     "name": "stdout",
     "output_type": "stream",
     "text": [
      "                   all      16368      23153      0.906      0.836      0.906      0.766\n",
      "                Pistol      16368        577      0.887      0.865      0.928      0.778\n",
      "                 Rifle      16368         35      0.829      0.657      0.799      0.562\n",
      "               Magazin      16368        144      0.904      0.938      0.969      0.826\n",
      "          Speargun tip      16368        155      0.941      0.929      0.948      0.882\n",
      "        Shuriken-metal      16368        111      0.948      0.822       0.96      0.742\n",
      "        Dart pin-metal      16368        124      0.806      0.629      0.745      0.452\n",
      "   Electroshock weapon      16368         64      0.856      0.594      0.815      0.568\n",
      "    Self-defense spray      16368        279      0.892      0.832      0.898      0.683\n",
      "                    Ax      16368        300      0.903       0.98      0.969      0.909\n",
      "               Knife-A      16368       1869      0.911      0.905      0.953      0.824\n",
      "               Knife-F      16368       1485      0.846      0.858      0.902       0.74\n",
      "               Knife-B      16368        780      0.808      0.832      0.877      0.683\n",
      "               Knife-C      16368        151      0.902      0.947      0.977      0.893\n",
      "               Knife-D      16368       1324      0.861      0.873      0.922      0.757\n",
      "           Knife blade      16368        559      0.832      0.523      0.634      0.412\n",
      "        Surgical knife      16368         70       0.79        0.1      0.271      0.144\n",
      "    Multipurpose knife      16368        774      0.912      0.929       0.97      0.798\n",
      "       Butterfly knife      16368        141      0.879      0.894      0.946      0.835\n",
      "              Karambit      16368        159      0.946      0.886      0.966      0.797\n",
      "Stratight razor-folding      16368        218      0.883      0.798      0.899      0.698\n",
      "            Scissors-A      16368       2539      0.948      0.915      0.966      0.854\n",
      "            Scissors-E      16368        448      0.938      0.817      0.925      0.784\n",
      "               Knuckle      16368        320      0.987      0.869      0.959      0.865\n",
      "                Hammer      16368       1256      0.969      0.959      0.985       0.93\n",
      "               Crowbar      16368         73      0.939      0.838      0.921      0.812\n",
      "                 Drill      16368        378      0.978      0.981      0.992      0.903\n",
      "                Driver      16368        450      0.903      0.813      0.903      0.699\n",
      "                Chisel      16368        262      0.908      0.901       0.95      0.802\n",
      "         Monkey wrench      16368        260      0.917      0.927      0.965      0.898\n",
      "           Pipe wrench      16368        127      0.961      0.967      0.991      0.908\n",
      "               Spanner      16368        802      0.956      0.967      0.988      0.907\n",
      "Podger ratcheting spanners      16368        255      0.958      0.904      0.975      0.888\n",
      "         Offset wrench      16368        379      0.963      0.961      0.978        0.9\n",
      "        Ratchet handle      16368        133      0.914      0.917      0.952       0.87\n",
      "     Combination Plier      16368        310      0.927      0.923      0.969        0.9\n",
      "                Nipper      16368        242      0.918      0.851      0.946       0.83\n",
      "       Long nose plier      16368        205      0.912      0.941      0.976      0.892\n",
      "            Vise plier      16368        279      0.905      0.964      0.966      0.901\n",
      "                   Awl      16368        349      0.888       0.82      0.895      0.718\n",
      "                Shovel      16368        112      0.975      0.973      0.994      0.966\n",
      "                  Homi      16368         66      0.898      0.848      0.893      0.765\n",
      "           Bolt cutter      16368         86      0.988      0.996      0.995      0.941\n",
      "                   Saw      16368        316      0.967      0.883      0.959      0.844\n",
      "             Saw blade      16368        303      0.876      0.904      0.937      0.841\n",
      "          Electric saw      16368         20      0.885        0.9       0.94      0.838\n",
      "         Baton-folding      16368        110      0.931      0.882      0.961      0.846\n",
      "               Grenade      16368         84      0.914      0.889      0.947      0.732\n",
      "         Smoke grenade      16368         73      0.903      0.768      0.912      0.708\n",
      "           Firecracker      16368        355      0.865      0.645      0.744      0.519\n",
      "            Solid fuel      16368        306      0.915      0.958      0.981      0.889\n",
      "              Nunchaku      16368        190      0.926      0.842      0.939      0.776\n",
      "               Knife-E      16368        761       0.88      0.743      0.847      0.646\n",
      "               Knife-G      16368         48      0.964      0.553      0.683      0.599\n",
      "    Green onion slicer      16368        118      0.933      0.822      0.904      0.667\n",
      "                Sickle      16368        124      0.918      0.927      0.968      0.872\n",
      "    Hex key(over 10cm)      16368        291      0.912      0.891      0.943       0.83\n",
      "                   Hoe      16368        132      0.831      0.928      0.959       0.84\n",
      "               Kubotan      16368        312      0.918      0.859      0.943      0.785\n",
      "                   Bow      16368         56      0.758      0.393      0.616      0.366\n",
      "             Arrow tip      16368        176      0.923      0.615      0.802      0.617\n",
      "   Drill bit(over 6cm)      16368        202      0.893      0.911      0.965      0.743\n",
      "             Buttstock      16368         72      0.941      0.886      0.926      0.826\n",
      "            Scissors-F      16368        117      0.956       0.75      0.909      0.734\n",
      "            Card knife      16368        268      0.802      0.728      0.771       0.58\n",
      "Hazardous goods(metal)      16368         69      0.889      0.814        0.9      0.762\n",
      "Speed: 0.2ms preprocess, 3.3ms inference, 0.0ms loss, 2.1ms postprocess per image\n",
      "Results saved to \u001b[1mruns\\detect\\train8\u001b[0m\n"
     ]
    }
   ],
   "source": [
    "from ultralytics import YOLO\n",
    "model = YOLO(\"yolov8s.pt\")\n",
    "\n",
    "results = model.train(\n",
    "    data=\"./data_ver2/data.yaml\",\n",
    "    imgsz=IMGSZ,\n",
    "    epochs=EPOCH,\n",
    "    batch=BATCH_SIZE,\n",
    "    val = True,\n",
    "    save = True,\n",
    "    patience=5,\n",
    "    #workers=16,\n",
    "    #device=0, \n",
    "    #optimizer=\"AdamW\",\n",
    "    close_mosaic = 0,\n",
    "    lr0=1e-3\n",
    "    )"
   ]
  },
  {
   "cell_type": "code",
   "execution_count": null,
   "id": "fdae93ee",
   "metadata": {},
   "outputs": [],
   "source": [
    "BATCH_SIZE = 16\n",
    "IMGSZ = 640\n",
    "EPOCH = 30\n",
    "save = True\n",
    "val = True"
   ]
  },
  {
   "cell_type": "code",
   "execution_count": null,
   "id": "315c8fca",
   "metadata": {},
   "outputs": [],
   "source": [
    "from ultralytics import YOLO\n",
    "model = YOLO(\"yolov8s.pt\")\n",
    "\n",
    "results = model.train(\n",
    "    data=\"./data_ver2/data.yaml\",\n",
    "    imgsz=IMGSZ,\n",
    "    epochs=EPOCH,\n",
    "    batch=BATCH_SIZE,\n",
    "    val = True,\n",
    "    save = True,\n",
    "    patience=5,\n",
    "    workers=16,\n",
    "    device=0, \n",
    "    #optimizer=\"AdamW\",\n",
    "    lr0=1e-3,\n",
    "    )"
   ]
  },
  {
   "cell_type": "code",
   "execution_count": null,
   "id": "66668110",
   "metadata": {},
   "outputs": [],
   "source": []
  }
 ],
 "metadata": {
  "kernelspec": {
   "display_name": "Python 3 (ipykernel)",
   "language": "python",
   "name": "python3"
  },
  "language_info": {
   "codemirror_mode": {
    "name": "ipython",
    "version": 3
   },
   "file_extension": ".py",
   "mimetype": "text/x-python",
   "name": "python",
   "nbconvert_exporter": "python",
   "pygments_lexer": "ipython3",
   "version": "3.9.13"
  }
 },
 "nbformat": 4,
 "nbformat_minor": 5
}
