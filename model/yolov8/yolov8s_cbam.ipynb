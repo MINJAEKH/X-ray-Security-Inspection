{
 "cells": [
  {
   "cell_type": "code",
   "execution_count": 1,
   "id": "1124952f",
   "metadata": {},
   "outputs": [
    {
     "name": "stdout",
     "output_type": "stream",
     "text": [
      "True\n"
     ]
    }
   ],
   "source": [
    "import torch\n",
    "\n",
    "print(torch.cuda.is_available())"
   ]
  },
  {
   "cell_type": "code",
   "execution_count": 2,
   "id": "f00dd5a4",
   "metadata": {},
   "outputs": [],
   "source": [
    "import os\n",
    "os.chdir('C:/Users/KHU/workspace_mj/X_ray')"
   ]
  },
  {
   "cell_type": "code",
   "execution_count": 3,
   "id": "e6eb34af",
   "metadata": {},
   "outputs": [],
   "source": [
    "BATCH_SIZE = 8\n",
    "IMGSZ = 640\n",
    "EPOCH = 30\n",
    "save = True\n",
    "val = True"
   ]
  },
  {
   "cell_type": "code",
   "execution_count": 4,
   "id": "46c12e7c",
   "metadata": {},
   "outputs": [
    {
     "name": "stdout",
     "output_type": "stream",
     "text": [
      "\n",
      "                   from  n    params  module                                       arguments                     \n",
      "  0                  -1  1       928  ultralytics.nn.modules.conv.Conv             [3, 32, 3, 2]                 \n",
      "  1                  -1  1     18560  ultralytics.nn.modules.conv.Conv             [32, 64, 3, 2]                \n",
      "  2                  -1  1     29056  ultralytics.nn.modules.block.C2f             [64, 64, 1, True]             \n",
      "  3                  -1  1      4258  ultralytics.nn.modules.conv.CBAM             [64, 7]                       \n",
      "  4                  -1  1     73984  ultralytics.nn.modules.conv.Conv             [64, 128, 3, 2]               \n",
      "  5                  -1  2    197632  ultralytics.nn.modules.block.C2f             [128, 128, 2, True]           \n",
      "  6                  -1  1    295424  ultralytics.nn.modules.conv.Conv             [128, 256, 3, 2]              \n",
      "  7                  -1  2    788480  ultralytics.nn.modules.block.C2f             [256, 256, 2, True]           \n",
      "  8                  -1  1   1180672  ultralytics.nn.modules.conv.Conv             [256, 512, 3, 2]              \n",
      "  9                  -1  1   1838080  ultralytics.nn.modules.block.C2f             [512, 512, 1, True]           \n",
      " 10                  -1  1    262754  ultralytics.nn.modules.conv.CBAM             [512, 7]                      \n",
      " 11                  -1  1    656896  ultralytics.nn.modules.block.SPPF            [512, 512, 5]                 \n",
      " 12                  -1  1         0  torch.nn.modules.upsampling.Upsample         [None, 2, 'nearest']          \n",
      " 13             [-1, 7]  1         0  ultralytics.nn.modules.conv.Concat           [1]                           \n",
      " 14                  -1  1    591360  ultralytics.nn.modules.block.C2f             [768, 256, 1]                 \n",
      " 15                  -1  1         0  torch.nn.modules.upsampling.Upsample         [None, 2, 'nearest']          \n",
      " 16             [-1, 5]  1         0  ultralytics.nn.modules.conv.Concat           [1]                           \n",
      " 17                  -1  1    148224  ultralytics.nn.modules.block.C2f             [384, 128, 1]                 \n",
      " 18                  -1  1    147712  ultralytics.nn.modules.conv.Conv             [128, 128, 3, 2]              \n",
      " 19            [-1, 13]  1         0  ultralytics.nn.modules.conv.Concat           [1]                           \n",
      " 20                  -1  1    624128  ultralytics.nn.modules.block.C2f             [896, 256, 1]                 \n",
      " 21                  -1  1    590336  ultralytics.nn.modules.conv.Conv             [256, 256, 3, 2]              \n",
      " 22            [-1, 10]  1         0  ultralytics.nn.modules.conv.Concat           [1]                           \n",
      " 23                  -1  1   1969152  ultralytics.nn.modules.block.C2f             [768, 512, 1]                 \n",
      " 24        [17, 20, 23]  1   2147008  ultralytics.nn.modules.head.Detect           [80, [128, 256, 512]]         \n",
      "YOLOv8s-cbam summary: 241 layers, 11564644 parameters, 11564628 gradients, 29.5 GFLOPs\n",
      "\n",
      "New https://pypi.org/project/ultralytics/8.1.6 available 😃 Update with 'pip install -U ultralytics'\n",
      "Ultralytics YOLOv8.1.2 🚀 Python-3.9.13 torch-1.13.1+cu116 CUDA:0 (NVIDIA GeForce RTX 3090, 24576MiB)\n",
      "WARNING ⚠️ Upgrade to torch>=2.0.0 for deterministic training.\n",
      "\u001b[34m\u001b[1mengine\\trainer: \u001b[0mtask=detect, mode=train, model=./ultralytics/ultralytics/cfg/models/v8/yolov8s-cbam.yaml, data=./data_ver2/data_aug.yaml, epochs=30, time=None, patience=5, batch=8, imgsz=640, save=True, save_period=-1, cache=False, device=None, workers=8, project=None, name=train21, exist_ok=False, pretrained=True, optimizer=auto, verbose=True, seed=0, deterministic=True, single_cls=False, rect=False, cos_lr=False, close_mosaic=0, resume=False, amp=True, fraction=1.0, profile=False, freeze=None, multi_scale=False, overlap_mask=True, mask_ratio=4, dropout=0.0, val=True, split=val, save_json=False, save_hybrid=False, conf=None, iou=0.7, max_det=300, half=False, dnn=False, plots=True, source=None, vid_stride=1, stream_buffer=False, visualize=False, augment=False, agnostic_nms=False, classes=None, retina_masks=False, embed=None, show=False, save_frames=False, save_txt=False, save_conf=False, save_crop=False, show_labels=True, show_conf=True, show_boxes=True, line_width=None, format=torchscript, keras=False, optimize=False, int8=False, dynamic=False, simplify=False, opset=None, workspace=4, nms=False, lr0=0.001, lrf=0.01, momentum=0.937, weight_decay=0.0005, warmup_epochs=3.0, warmup_momentum=0.8, warmup_bias_lr=0.1, box=7.5, cls=0.5, dfl=1.5, pose=12.0, kobj=1.0, label_smoothing=0.0, nbs=64, hsv_h=0.015, hsv_s=0.7, hsv_v=0.4, degrees=0.0, translate=0.1, scale=0.5, shear=0.0, perspective=0.0, flipud=0.0, fliplr=0.5, mosaic=1.0, mixup=0.0, copy_paste=0.0, auto_augment=randaugment, erasing=0.4, crop_fraction=1.0, cfg=None, tracker=botsort.yaml, save_dir=runs\\detect\\train21\n",
      "Overriding model.yaml nc=80 with nc=65\n",
      "\n",
      "                   from  n    params  module                                       arguments                     \n",
      "  0                  -1  1       928  ultralytics.nn.modules.conv.Conv             [3, 32, 3, 2]                 \n",
      "  1                  -1  1     18560  ultralytics.nn.modules.conv.Conv             [32, 64, 3, 2]                \n",
      "  2                  -1  1     29056  ultralytics.nn.modules.block.C2f             [64, 64, 1, True]             \n",
      "  3                  -1  1      4258  ultralytics.nn.modules.conv.CBAM             [64, 7]                       \n",
      "  4                  -1  1     73984  ultralytics.nn.modules.conv.Conv             [64, 128, 3, 2]               \n",
      "  5                  -1  2    197632  ultralytics.nn.modules.block.C2f             [128, 128, 2, True]           \n",
      "  6                  -1  1    295424  ultralytics.nn.modules.conv.Conv             [128, 256, 3, 2]              \n",
      "  7                  -1  2    788480  ultralytics.nn.modules.block.C2f             [256, 256, 2, True]           \n",
      "  8                  -1  1   1180672  ultralytics.nn.modules.conv.Conv             [256, 512, 3, 2]              \n",
      "  9                  -1  1   1838080  ultralytics.nn.modules.block.C2f             [512, 512, 1, True]           \n",
      " 10                  -1  1    262754  ultralytics.nn.modules.conv.CBAM             [512, 7]                      \n",
      " 11                  -1  1    656896  ultralytics.nn.modules.block.SPPF            [512, 512, 5]                 \n",
      " 12                  -1  1         0  torch.nn.modules.upsampling.Upsample         [None, 2, 'nearest']          \n",
      " 13             [-1, 7]  1         0  ultralytics.nn.modules.conv.Concat           [1]                           \n",
      " 14                  -1  1    591360  ultralytics.nn.modules.block.C2f             [768, 256, 1]                 \n",
      " 15                  -1  1         0  torch.nn.modules.upsampling.Upsample         [None, 2, 'nearest']          \n",
      " 16             [-1, 5]  1         0  ultralytics.nn.modules.conv.Concat           [1]                           \n",
      " 17                  -1  1    148224  ultralytics.nn.modules.block.C2f             [384, 128, 1]                 \n",
      " 18                  -1  1    147712  ultralytics.nn.modules.conv.Conv             [128, 128, 3, 2]              \n",
      " 19            [-1, 13]  1         0  ultralytics.nn.modules.conv.Concat           [1]                           \n",
      " 20                  -1  1    624128  ultralytics.nn.modules.block.C2f             [896, 256, 1]                 \n",
      " 21                  -1  1    590336  ultralytics.nn.modules.conv.Conv             [256, 256, 3, 2]              \n",
      " 22            [-1, 10]  1         0  ultralytics.nn.modules.conv.Concat           [1]                           \n",
      " 23                  -1  1   1969152  ultralytics.nn.modules.block.C2f             [768, 512, 1]                 \n",
      " 24        [17, 20, 23]  1   2141203  ultralytics.nn.modules.head.Detect           [65, [128, 256, 512]]         \n",
      "YOLOv8s-cbam summary: 241 layers, 11558839 parameters, 11558823 gradients, 29.4 GFLOPs\n",
      "\n",
      "Freezing layer 'model.24.dfl.conv.weight'\n",
      "\u001b[34m\u001b[1mAMP: \u001b[0mrunning Automatic Mixed Precision (AMP) checks with YOLOv8n...\n",
      "\u001b[34m\u001b[1mAMP: \u001b[0mchecks passed ✅\n"
     ]
    },
    {
     "name": "stderr",
     "output_type": "stream",
     "text": [
      "\u001b[34m\u001b[1mtrain: \u001b[0mScanning C:\\Users\\KHU\\workspace_mj\\X_ray\\data_ver2\\train_aug.cache... 97084 images, 189 backgrounds, 0 corrupt: \u001b[0m\n"
     ]
    },
    {
     "name": "stdout",
     "output_type": "stream",
     "text": [
      "\u001b[34m\u001b[1malbumentations: \u001b[0mBlur(p=0.01, blur_limit=(3, 7)), MedianBlur(p=0.01, blur_limit=(3, 7)), ToGray(p=0.01), CLAHE(p=0.01, clip_limit=(1, 4.0), tile_grid_size=(8, 8))\n"
     ]
    },
    {
     "name": "stderr",
     "output_type": "stream",
     "text": [
      "\u001b[34m\u001b[1mval: \u001b[0mScanning C:\\Users\\KHU\\workspace_mj\\X_ray\\data_ver2\\val.cache... 16368 images, 54 backgrounds, 0 corrupt: 100%|████\u001b[0m\n"
     ]
    },
    {
     "name": "stdout",
     "output_type": "stream",
     "text": [
      "Plotting labels to runs\\detect\\train21\\labels.jpg... \n",
      "\u001b[34m\u001b[1moptimizer:\u001b[0m 'optimizer=auto' found, ignoring 'lr0=0.001' and 'momentum=0.937' and determining best 'optimizer', 'lr0' and 'momentum' automatically... \n",
      "\u001b[34m\u001b[1moptimizer:\u001b[0m SGD(lr=0.01, momentum=0.9) with parameter groups 57 weight(decay=0.0), 68 weight(decay=0.0005), 65 bias(decay=0.0)\n",
      "30 epochs...\n",
      "\n",
      "      Epoch    GPU_mem   box_loss   cls_loss   dfl_loss  Instances       Size\n"
     ]
    },
    {
     "name": "stderr",
     "output_type": "stream",
     "text": [
      "       1/30      2.23G        2.6      5.325      2.672          3        640: 100%|██████████| 12136/12136 [29:43<00:0\n",
      "                 Class     Images  Instances      Box(P          R      mAP50  mAP50-95): 100%|██████████| 1023/1023 [0\n"
     ]
    },
    {
     "name": "stdout",
     "output_type": "stream",
     "text": [
      "                   all      16368      23153      0.314      0.147      0.091     0.0538\n",
      "\n",
      "      Epoch    GPU_mem   box_loss   cls_loss   dfl_loss  Instances       Size\n"
     ]
    },
    {
     "name": "stderr",
     "output_type": "stream",
     "text": [
      "       2/30       2.4G       1.66      3.312      1.729          9        640: 100%|██████████| 12136/12136 [25:32<00:0\n",
      "                 Class     Images  Instances      Box(P          R      mAP50  mAP50-95): 100%|██████████| 1023/1023 [0\n"
     ]
    },
    {
     "name": "stdout",
     "output_type": "stream",
     "text": [
      "                   all      16368      23153      0.383      0.268      0.206      0.144\n",
      "\n",
      "      Epoch    GPU_mem   box_loss   cls_loss   dfl_loss  Instances       Size\n"
     ]
    },
    {
     "name": "stderr",
     "output_type": "stream",
     "text": [
      "       3/30      2.37G      1.502      2.765      1.598          9        640: 100%|██████████| 12136/12136 [24:20<00:0\n",
      "                 Class     Images  Instances      Box(P          R      mAP50  mAP50-95): 100%|██████████| 1023/1023 [0\n"
     ]
    },
    {
     "name": "stdout",
     "output_type": "stream",
     "text": [
      "                   all      16368      23153      0.467      0.317      0.278      0.204\n",
      "\n",
      "      Epoch    GPU_mem   box_loss   cls_loss   dfl_loss  Instances       Size\n"
     ]
    },
    {
     "name": "stderr",
     "output_type": "stream",
     "text": [
      "       4/30      2.37G      1.394       2.49      1.514         11        640: 100%|██████████| 12136/12136 [24:07<00:0\n",
      "                 Class     Images  Instances      Box(P          R      mAP50  mAP50-95): 100%|██████████| 1023/1023 [0\n"
     ]
    },
    {
     "name": "stdout",
     "output_type": "stream",
     "text": [
      "                   all      16368      23153      0.524      0.376      0.371       0.28\n",
      "\n",
      "      Epoch    GPU_mem   box_loss   cls_loss   dfl_loss  Instances       Size\n"
     ]
    },
    {
     "name": "stderr",
     "output_type": "stream",
     "text": [
      "       5/30      2.36G      1.302      2.257      1.446          9        640: 100%|██████████| 12136/12136 [24:05<00:0\n",
      "                 Class     Images  Instances      Box(P          R      mAP50  mAP50-95): 100%|██████████| 1023/1023 [0\n"
     ]
    },
    {
     "name": "stdout",
     "output_type": "stream",
     "text": [
      "                   all      16368      23153      0.549      0.425       0.44      0.337\n",
      "\n",
      "      Epoch    GPU_mem   box_loss   cls_loss   dfl_loss  Instances       Size\n"
     ]
    },
    {
     "name": "stderr",
     "output_type": "stream",
     "text": [
      "       6/30      2.35G      1.241      2.087        1.4         11        640: 100%|██████████| 12136/12136 [24:10<00:0\n",
      "                 Class     Images  Instances      Box(P          R      mAP50  mAP50-95): 100%|██████████| 1023/1023 [0\n"
     ]
    },
    {
     "name": "stdout",
     "output_type": "stream",
     "text": [
      "                   all      16368      23153      0.573      0.457      0.487      0.376\n",
      "\n",
      "      Epoch    GPU_mem   box_loss   cls_loss   dfl_loss  Instances       Size\n"
     ]
    },
    {
     "name": "stderr",
     "output_type": "stream",
     "text": [
      "       7/30      2.35G      1.195      1.951       1.37          6        640: 100%|██████████| 12136/12136 [24:14<00:0\n",
      "                 Class     Images  Instances      Box(P          R      mAP50  mAP50-95): 100%|██████████| 1023/1023 [0\n"
     ]
    },
    {
     "name": "stdout",
     "output_type": "stream",
     "text": [
      "                   all      16368      23153      0.601       0.48       0.52      0.404\n",
      "\n",
      "      Epoch    GPU_mem   box_loss   cls_loss   dfl_loss  Instances       Size\n"
     ]
    },
    {
     "name": "stderr",
     "output_type": "stream",
     "text": [
      "       8/30      2.35G      1.164      1.854      1.347          9        640: 100%|██████████| 12136/12136 [24:27<00:0\n",
      "                 Class     Images  Instances      Box(P          R      mAP50  mAP50-95): 100%|██████████| 1023/1023 [0\n"
     ]
    },
    {
     "name": "stdout",
     "output_type": "stream",
     "text": [
      "                   all      16368      23153      0.623      0.489      0.542      0.424\n",
      "\n",
      "      Epoch    GPU_mem   box_loss   cls_loss   dfl_loss  Instances       Size\n"
     ]
    },
    {
     "name": "stderr",
     "output_type": "stream",
     "text": [
      "       9/30      2.35G      1.133      1.766      1.326         15        640: 100%|██████████| 12136/12136 [24:12<00:0\n",
      "                 Class     Images  Instances      Box(P          R      mAP50  mAP50-95): 100%|██████████| 1023/1023 [0\n"
     ]
    },
    {
     "name": "stdout",
     "output_type": "stream",
     "text": [
      "                   all      16368      23153      0.632        0.5      0.561       0.44\n",
      "\n",
      "      Epoch    GPU_mem   box_loss   cls_loss   dfl_loss  Instances       Size\n"
     ]
    },
    {
     "name": "stderr",
     "output_type": "stream",
     "text": [
      "      10/30      2.35G       1.11      1.689      1.309         15        640: 100%|██████████| 12136/12136 [24:16<00:0\n",
      "                 Class     Images  Instances      Box(P          R      mAP50  mAP50-95): 100%|██████████| 1023/1023 [0\n"
     ]
    },
    {
     "name": "stdout",
     "output_type": "stream",
     "text": [
      "                   all      16368      23153      0.643      0.512      0.577      0.454\n",
      "\n",
      "      Epoch    GPU_mem   box_loss   cls_loss   dfl_loss  Instances       Size\n"
     ]
    },
    {
     "name": "stderr",
     "output_type": "stream",
     "text": [
      "      11/30      2.34G       1.09      1.625      1.295          6        640: 100%|██████████| 12136/12136 [24:11<00:0\n",
      "                 Class     Images  Instances      Box(P          R      mAP50  mAP50-95): 100%|██████████| 1023/1023 [0\n"
     ]
    },
    {
     "name": "stdout",
     "output_type": "stream",
     "text": [
      "                   all      16368      23153      0.649      0.525      0.591      0.466\n",
      "\n",
      "      Epoch    GPU_mem   box_loss   cls_loss   dfl_loss  Instances       Size\n"
     ]
    },
    {
     "name": "stderr",
     "output_type": "stream",
     "text": [
      "      12/30      2.34G      1.068      1.567      1.279         16        640: 100%|██████████| 12136/12136 [24:15<00:0\n",
      "                 Class     Images  Instances      Box(P          R      mAP50  mAP50-95): 100%|██████████| 1023/1023 [0\n"
     ]
    },
    {
     "name": "stdout",
     "output_type": "stream",
     "text": [
      "                   all      16368      23153      0.666      0.529      0.606      0.479\n",
      "\n",
      "      Epoch    GPU_mem   box_loss   cls_loss   dfl_loss  Instances       Size\n"
     ]
    },
    {
     "name": "stderr",
     "output_type": "stream",
     "text": [
      "      13/30      2.34G      1.051      1.515      1.267          5        640: 100%|██████████| 12136/12136 [24:00<00:0\n",
      "                 Class     Images  Instances      Box(P          R      mAP50  mAP50-95): 100%|██████████| 1023/1023 [0\n"
     ]
    },
    {
     "name": "stdout",
     "output_type": "stream",
     "text": [
      "                   all      16368      23153      0.677      0.543      0.621      0.492\n",
      "\n",
      "      Epoch    GPU_mem   box_loss   cls_loss   dfl_loss  Instances       Size\n"
     ]
    },
    {
     "name": "stderr",
     "output_type": "stream",
     "text": [
      "      14/30      2.34G      1.038      1.468      1.259         11        640: 100%|██████████| 12136/12136 [24:15<00:0\n",
      "                 Class     Images  Instances      Box(P          R      mAP50  mAP50-95): 100%|██████████| 1023/1023 [0\n"
     ]
    },
    {
     "name": "stdout",
     "output_type": "stream",
     "text": [
      "                   all      16368      23153      0.687      0.559      0.636      0.504\n",
      "\n",
      "      Epoch    GPU_mem   box_loss   cls_loss   dfl_loss  Instances       Size\n"
     ]
    },
    {
     "name": "stderr",
     "output_type": "stream",
     "text": [
      "      15/30      2.34G       1.02      1.422      1.248          5        640: 100%|██████████| 12136/12136 [24:15<00:0\n",
      "                 Class     Images  Instances      Box(P          R      mAP50  mAP50-95): 100%|██████████| 1023/1023 [0\n"
     ]
    },
    {
     "name": "stdout",
     "output_type": "stream",
     "text": [
      "                   all      16368      23153      0.695      0.575      0.652      0.518\n",
      "\n",
      "      Epoch    GPU_mem   box_loss   cls_loss   dfl_loss  Instances       Size\n"
     ]
    },
    {
     "name": "stderr",
     "output_type": "stream",
     "text": [
      "      16/30      2.34G      1.006      1.384       1.24          7        640: 100%|██████████| 12136/12136 [24:16<00:0\n",
      "                 Class     Images  Instances      Box(P          R      mAP50  mAP50-95): 100%|██████████| 1023/1023 [0\n"
     ]
    },
    {
     "name": "stdout",
     "output_type": "stream",
     "text": [
      "                   all      16368      23153      0.707      0.588      0.668      0.532\n",
      "\n",
      "      Epoch    GPU_mem   box_loss   cls_loss   dfl_loss  Instances       Size\n"
     ]
    },
    {
     "name": "stderr",
     "output_type": "stream",
     "text": [
      "      17/30      2.33G     0.9969      1.351      1.232          6        640: 100%|██████████| 12136/12136 [24:08<00:0\n",
      "                 Class     Images  Instances      Box(P          R      mAP50  mAP50-95): 100%|██████████| 1023/1023 [0\n"
     ]
    },
    {
     "name": "stdout",
     "output_type": "stream",
     "text": [
      "                   all      16368      23153      0.719      0.601      0.683      0.545\n",
      "\n",
      "      Epoch    GPU_mem   box_loss   cls_loss   dfl_loss  Instances       Size\n"
     ]
    },
    {
     "name": "stderr",
     "output_type": "stream",
     "text": [
      "      18/30      2.34G     0.9831      1.313      1.221         15        640: 100%|██████████| 12136/12136 [24:26<00:0\n",
      "                 Class     Images  Instances      Box(P          R      mAP50  mAP50-95): 100%|██████████| 1023/1023 [0\n"
     ]
    },
    {
     "name": "stdout",
     "output_type": "stream",
     "text": [
      "                   all      16368      23153      0.734      0.613      0.698      0.558\n",
      "\n",
      "      Epoch    GPU_mem   box_loss   cls_loss   dfl_loss  Instances       Size\n"
     ]
    },
    {
     "name": "stderr",
     "output_type": "stream",
     "text": [
      "      19/30      2.33G     0.9675      1.272      1.213          7        640: 100%|██████████| 12136/12136 [24:14<00:0\n",
      "                 Class     Images  Instances      Box(P          R      mAP50  mAP50-95): 100%|██████████| 1023/1023 [0\n"
     ]
    },
    {
     "name": "stdout",
     "output_type": "stream",
     "text": [
      "                   all      16368      23153       0.74      0.628      0.712      0.571\n",
      "\n",
      "      Epoch    GPU_mem   box_loss   cls_loss   dfl_loss  Instances       Size\n"
     ]
    },
    {
     "name": "stderr",
     "output_type": "stream",
     "text": [
      "      20/30      2.34G     0.9586       1.24      1.206         12        640: 100%|██████████| 12136/12136 [24:25<00:0\n",
      "                 Class     Images  Instances      Box(P          R      mAP50  mAP50-95): 100%|██████████| 1023/1023 [0\n"
     ]
    },
    {
     "name": "stdout",
     "output_type": "stream",
     "text": [
      "                   all      16368      23153      0.749      0.638      0.726      0.583\n",
      "\n",
      "      Epoch    GPU_mem   box_loss   cls_loss   dfl_loss  Instances       Size\n"
     ]
    },
    {
     "name": "stderr",
     "output_type": "stream",
     "text": [
      "      21/30      2.33G     0.9478      1.208      1.198          9        640: 100%|██████████| 12136/12136 [24:20<00:0\n",
      "                 Class     Images  Instances      Box(P          R      mAP50  mAP50-95): 100%|██████████| 1023/1023 [0\n"
     ]
    },
    {
     "name": "stdout",
     "output_type": "stream",
     "text": [
      "                   all      16368      23153      0.756      0.652       0.74      0.594\n",
      "\n",
      "      Epoch    GPU_mem   box_loss   cls_loss   dfl_loss  Instances       Size\n"
     ]
    },
    {
     "name": "stderr",
     "output_type": "stream",
     "text": [
      "      22/30      2.33G     0.9312      1.178      1.187          6        640: 100%|██████████| 12136/12136 [24:19<00:0\n",
      "                 Class     Images  Instances      Box(P          R      mAP50  mAP50-95): 100%|██████████| 1023/1023 [0\n"
     ]
    },
    {
     "name": "stdout",
     "output_type": "stream",
     "text": [
      "                   all      16368      23153      0.775      0.659      0.752      0.605\n",
      "\n",
      "      Epoch    GPU_mem   box_loss   cls_loss   dfl_loss  Instances       Size\n"
     ]
    },
    {
     "name": "stderr",
     "output_type": "stream",
     "text": [
      "      23/30      2.33G     0.9189       1.14       1.18         16        640: 100%|██████████| 12136/12136 [24:21<00:0\n",
      "                 Class     Images  Instances      Box(P          R      mAP50  mAP50-95): 100%|██████████| 1023/1023 [0\n"
     ]
    },
    {
     "name": "stdout",
     "output_type": "stream",
     "text": [
      "                   all      16368      23153       0.79      0.667      0.764      0.616\n",
      "\n",
      "      Epoch    GPU_mem   box_loss   cls_loss   dfl_loss  Instances       Size\n"
     ]
    },
    {
     "name": "stderr",
     "output_type": "stream",
     "text": [
      "      24/30      2.33G     0.9069      1.112      1.172          5        640: 100%|██████████| 12136/12136 [24:23<00:0\n",
      "                 Class     Images  Instances      Box(P          R      mAP50  mAP50-95): 100%|██████████| 1023/1023 [0\n"
     ]
    },
    {
     "name": "stdout",
     "output_type": "stream",
     "text": [
      "                   all      16368      23153      0.791       0.68      0.774      0.625\n",
      "\n",
      "      Epoch    GPU_mem   box_loss   cls_loss   dfl_loss  Instances       Size\n"
     ]
    },
    {
     "name": "stderr",
     "output_type": "stream",
     "text": [
      "      25/30      2.33G     0.8943      1.081      1.164         10        640: 100%|██████████| 12136/12136 [24:19<00:0\n",
      "                 Class     Images  Instances      Box(P          R      mAP50  mAP50-95): 100%|██████████| 1023/1023 [0\n"
     ]
    },
    {
     "name": "stdout",
     "output_type": "stream",
     "text": [
      "                   all      16368      23153      0.793      0.688      0.783      0.633\n",
      "\n",
      "      Epoch    GPU_mem   box_loss   cls_loss   dfl_loss  Instances       Size\n"
     ]
    },
    {
     "name": "stderr",
     "output_type": "stream",
     "text": [
      "      26/30      2.33G     0.8779      1.048      1.152         10        640: 100%|██████████| 12136/12136 [24:15<00:0\n",
      "                 Class     Images  Instances      Box(P          R      mAP50  mAP50-95): 100%|██████████| 1023/1023 [0\n"
     ]
    },
    {
     "name": "stdout",
     "output_type": "stream",
     "text": [
      "                   all      16368      23153      0.797      0.697      0.791      0.641\n",
      "\n",
      "      Epoch    GPU_mem   box_loss   cls_loss   dfl_loss  Instances       Size\n"
     ]
    },
    {
     "name": "stderr",
     "output_type": "stream",
     "text": [
      "      27/30      2.33G     0.8685      1.022      1.146          4        640: 100%|██████████| 12136/12136 [24:19<00:0\n",
      "                 Class     Images  Instances      Box(P          R      mAP50  mAP50-95): 100%|██████████| 1023/1023 [0\n"
     ]
    },
    {
     "name": "stdout",
     "output_type": "stream",
     "text": [
      "                   all      16368      23153      0.805      0.702      0.799      0.648\n",
      "\n",
      "      Epoch    GPU_mem   box_loss   cls_loss   dfl_loss  Instances       Size\n"
     ]
    },
    {
     "name": "stderr",
     "output_type": "stream",
     "text": [
      "      28/30      2.33G     0.8537     0.9928      1.138         12        640: 100%|██████████| 12136/12136 [24:23<00:0\n",
      "                 Class     Images  Instances      Box(P          R      mAP50  mAP50-95): 100%|██████████| 1023/1023 [0\n"
     ]
    },
    {
     "name": "stdout",
     "output_type": "stream",
     "text": [
      "                   all      16368      23153      0.805      0.716      0.807      0.655\n",
      "\n",
      "      Epoch    GPU_mem   box_loss   cls_loss   dfl_loss  Instances       Size\n"
     ]
    },
    {
     "name": "stderr",
     "output_type": "stream",
     "text": [
      "      29/30      2.33G     0.8399     0.9622      1.128         15        640: 100%|██████████| 12136/12136 [24:28<00:0\n",
      "                 Class     Images  Instances      Box(P          R      mAP50  mAP50-95): 100%|██████████| 1023/1023 [0\n"
     ]
    },
    {
     "name": "stdout",
     "output_type": "stream",
     "text": [
      "                   all      16368      23153      0.815       0.72      0.813      0.661\n",
      "\n",
      "      Epoch    GPU_mem   box_loss   cls_loss   dfl_loss  Instances       Size\n"
     ]
    },
    {
     "name": "stderr",
     "output_type": "stream",
     "text": [
      "      30/30      2.32G     0.8274     0.9369      1.121          8        640: 100%|██████████| 12136/12136 [24:26<00:0\n",
      "                 Class     Images  Instances      Box(P          R      mAP50  mAP50-95): 100%|██████████| 1023/1023 [0\n"
     ]
    },
    {
     "name": "stdout",
     "output_type": "stream",
     "text": [
      "                   all      16368      23153       0.82      0.729       0.82      0.668\n",
      "\n",
      "30 epochs completed in 13.378 hours.\n",
      "Optimizer stripped from runs\\detect\\train21\\weights\\last.pt, 23.3MB\n",
      "Optimizer stripped from runs\\detect\\train21\\weights\\best.pt, 23.3MB\n",
      "\n",
      "Validating runs\\detect\\train21\\weights\\best.pt...\n",
      "Ultralytics YOLOv8.1.2 🚀 Python-3.9.13 torch-1.13.1+cu116 CUDA:0 (NVIDIA GeForce RTX 3090, 24576MiB)\n",
      "YOLOv8s-cbam summary (fused): 184 layers, 11548823 parameters, 0 gradients, 29.2 GFLOPs\n"
     ]
    },
    {
     "name": "stderr",
     "output_type": "stream",
     "text": [
      "                 Class     Images  Instances      Box(P          R      mAP50  mAP50-95): 100%|██████████| 1023/1023 [0\n"
     ]
    },
    {
     "name": "stdout",
     "output_type": "stream",
     "text": [
      "                   all      16368      23153       0.82      0.729       0.82      0.668\n",
      "                Pistol      16368        577      0.872      0.636      0.784      0.604\n",
      "                 Rifle      16368         35       0.85      0.487      0.697      0.467\n",
      "               Magazin      16368        144      0.822      0.764      0.858      0.689\n",
      "          Speargun tip      16368        155      0.888       0.89       0.93      0.815\n",
      "        Shuriken-metal      16368        111      0.926      0.703      0.869      0.637\n",
      "        Dart pin-metal      16368        124      0.859      0.589       0.72      0.391\n",
      "   Electroshock weapon      16368         64      0.851      0.578      0.779      0.486\n",
      "    Self-defense spray      16368        279      0.829       0.72       0.81      0.602\n",
      "                    Ax      16368        300      0.787      0.886      0.913      0.838\n",
      "               Knife-A      16368       1869      0.749       0.84      0.876      0.706\n",
      "               Knife-F      16368       1485      0.711      0.786      0.803       0.63\n",
      "               Knife-B      16368        780      0.695      0.673      0.726      0.534\n",
      "               Knife-C      16368        151      0.866      0.709      0.856      0.756\n",
      "               Knife-D      16368       1324      0.778       0.73      0.814      0.644\n",
      "           Knife blade      16368        559      0.801      0.336      0.484      0.306\n",
      "        Surgical knife      16368         70      0.585      0.101      0.175      0.109\n",
      "    Multipurpose knife      16368        774      0.792      0.771      0.863      0.649\n",
      "       Butterfly knife      16368        141      0.889      0.623      0.849      0.733\n",
      "              Karambit      16368        159      0.756      0.762      0.849       0.66\n",
      "Stratight razor-folding      16368        218      0.682       0.72      0.764      0.558\n",
      "            Scissors-A      16368       2539      0.924      0.848      0.935      0.774\n",
      "            Scissors-E      16368        448      0.798      0.714      0.801      0.666\n",
      "               Knuckle      16368        320      0.962      0.791      0.931      0.842\n",
      "                Hammer      16368       1256      0.923      0.901       0.96      0.863\n",
      "               Crowbar      16368         73      0.871      0.738      0.853      0.735\n",
      "                 Drill      16368        378      0.956      0.858      0.969      0.822\n",
      "                Driver      16368        450      0.778      0.708       0.81      0.589\n",
      "                Chisel      16368        262      0.935       0.66      0.847      0.684\n",
      "         Monkey wrench      16368        260      0.864      0.831      0.903      0.808\n",
      "           Pipe wrench      16368        127      0.781      0.882      0.897      0.816\n",
      "               Spanner      16368        802      0.906      0.875      0.952      0.844\n",
      "Podger ratcheting spanners      16368        255      0.763      0.867      0.903      0.794\n",
      "         Offset wrench      16368        379      0.884      0.913      0.949      0.856\n",
      "        Ratchet handle      16368        133      0.951      0.731      0.922      0.826\n",
      "     Combination Plier      16368        310      0.856      0.766      0.882      0.803\n",
      "                Nipper      16368        242      0.576      0.748      0.778      0.679\n",
      "       Long nose plier      16368        205        0.9       0.82      0.915      0.823\n",
      "            Vise plier      16368        279      0.879      0.828       0.91      0.835\n",
      "                   Awl      16368        349      0.767      0.751      0.805      0.616\n",
      "                Shovel      16368        112      0.929       0.92      0.968      0.908\n",
      "                  Homi      16368         66      0.718      0.652      0.761       0.65\n",
      "           Bolt cutter      16368         86      0.898      0.924      0.972      0.896\n",
      "                   Saw      16368        316      0.854      0.795      0.882      0.736\n",
      "             Saw blade      16368        303      0.763      0.815      0.866      0.752\n",
      "          Electric saw      16368         20      0.939      0.777      0.881      0.732\n",
      "         Baton-folding      16368        110      0.825      0.812      0.888      0.739\n",
      "               Grenade      16368         84       0.87      0.726      0.847      0.621\n",
      "         Smoke grenade      16368         73      0.947      0.741      0.887      0.618\n",
      "           Firecracker      16368        355       0.78      0.539      0.622      0.422\n",
      "            Solid fuel      16368        306      0.817      0.866      0.919      0.796\n",
      "              Nunchaku      16368        190      0.936        0.8      0.876      0.664\n",
      "               Knife-E      16368        761      0.836      0.598       0.73      0.515\n",
      "               Knife-G      16368         48      0.644      0.542      0.568      0.499\n",
      "    Green onion slicer      16368        118      0.657       0.72      0.763      0.563\n",
      "                Sickle      16368        124      0.776      0.879       0.93      0.763\n",
      "    Hex key(over 10cm)      16368        291      0.884      0.811       0.89      0.738\n",
      "                   Hoe      16368        132       0.79      0.811       0.86      0.721\n",
      "               Kubotan      16368        312      0.775      0.785      0.871      0.713\n",
      "                   Bow      16368         56      0.629      0.304       0.39      0.259\n",
      "             Arrow tip      16368        176       0.91      0.523      0.686       0.54\n",
      "   Drill bit(over 6cm)      16368        202      0.822      0.856      0.897      0.683\n",
      "             Buttstock      16368         72      0.762       0.75      0.794      0.677\n",
      "            Scissors-F      16368        117      0.786      0.692      0.791      0.645\n",
      "            Card knife      16368        268      0.733      0.645      0.706      0.514\n",
      "Hazardous goods(metal)      16368         69      0.735      0.564      0.703      0.572\n",
      "Speed: 0.1ms preprocess, 3.1ms inference, 0.0ms loss, 1.8ms postprocess per image\n",
      "Results saved to \u001b[1mruns\\detect\\train21\u001b[0m\n"
     ]
    }
   ],
   "source": [
    "from ultralytics import YOLO\n",
    "model = YOLO(\"./ultralytics/ultralytics/cfg/models/v8/yolov8s-cbam.yaml\")\n",
    "\n",
    "results = model.train(\n",
    "    #cfg = './ultralytics/ultralytics/cfg/default.yaml',\n",
    "    data=\"./data_ver2/data_aug.yaml\",\n",
    "    imgsz=IMGSZ,\n",
    "    epochs=EPOCH,\n",
    "    batch=BATCH_SIZE,\n",
    "    val = True,\n",
    "    save = True,\n",
    "    patience=5,\n",
    "    #optimizer=\"AdamW\",\n",
    "    close_mosaic = 0,\n",
    "    lr0=1e-3\n",
    "    )"
   ]
  },
  {
   "cell_type": "code",
   "execution_count": null,
   "id": "9be4592f",
   "metadata": {},
   "outputs": [],
   "source": []
  }
 ],
 "metadata": {
  "kernelspec": {
   "display_name": "Python 3 (ipykernel)",
   "language": "python",
   "name": "python3"
  },
  "language_info": {
   "codemirror_mode": {
    "name": "ipython",
    "version": 3
   },
   "file_extension": ".py",
   "mimetype": "text/x-python",
   "name": "python",
   "nbconvert_exporter": "python",
   "pygments_lexer": "ipython3",
   "version": "3.9.13"
  }
 },
 "nbformat": 4,
 "nbformat_minor": 5
}
