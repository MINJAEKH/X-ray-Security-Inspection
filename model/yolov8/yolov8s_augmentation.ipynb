{
 "cells": [
  {
   "cell_type": "code",
   "execution_count": 1,
   "id": "d0f16bb9",
   "metadata": {},
   "outputs": [
    {
     "name": "stdout",
     "output_type": "stream",
     "text": [
      "True\n"
     ]
    }
   ],
   "source": [
    "import torch\n",
    "\n",
    "print(torch.cuda.is_available())"
   ]
  },
  {
   "cell_type": "code",
   "execution_count": 2,
   "id": "964a299c",
   "metadata": {},
   "outputs": [],
   "source": [
    "import os\n",
    "os.chdir('C:/Users/KHU/workspace_mj/X_ray')"
   ]
  },
  {
   "cell_type": "code",
   "execution_count": null,
   "id": "81f19ee2",
   "metadata": {},
   "outputs": [],
   "source": []
  },
  {
   "cell_type": "code",
   "execution_count": 3,
   "id": "00bff7f2",
   "metadata": {},
   "outputs": [],
   "source": [
    "BATCH_SIZE = 8\n",
    "IMGSZ = 640\n",
    "EPOCH = 30\n",
    "save = True\n",
    "val = True"
   ]
  },
  {
   "cell_type": "code",
   "execution_count": 4,
   "id": "76198c46",
   "metadata": {},
   "outputs": [
    {
     "name": "stdout",
     "output_type": "stream",
     "text": [
      "New https://pypi.org/project/ultralytics/8.1.5 available 😃 Update with 'pip install -U ultralytics'\n",
      "Ultralytics YOLOv8.1.2 🚀 Python-3.9.13 torch-1.13.1+cu116 CUDA:0 (NVIDIA GeForce RTX 3090, 24576MiB)\n",
      "WARNING ⚠️ Upgrade to torch>=2.0.0 for deterministic training.\n",
      "\u001b[34m\u001b[1mengine\\trainer: \u001b[0mtask=detect, mode=train, model=yolov8s.pt, data=./data_ver2/data_aug.yaml, epochs=30, time=None, patience=5, batch=8, imgsz=640, save=True, save_period=-1, cache=False, device=None, workers=8, project=None, name=train11, exist_ok=False, pretrained=True, optimizer=auto, verbose=True, seed=0, deterministic=True, single_cls=False, rect=False, cos_lr=False, close_mosaic=0, resume=False, amp=True, fraction=1.0, profile=False, freeze=None, multi_scale=False, overlap_mask=True, mask_ratio=4, dropout=0.0, val=True, split=val, save_json=False, save_hybrid=False, conf=None, iou=0.7, max_det=300, half=False, dnn=False, plots=True, source=None, vid_stride=1, stream_buffer=False, visualize=False, augment=False, agnostic_nms=False, classes=None, retina_masks=False, embed=None, show=False, save_frames=False, save_txt=False, save_conf=False, save_crop=False, show_labels=True, show_conf=True, show_boxes=True, line_width=None, format=torchscript, keras=False, optimize=False, int8=False, dynamic=False, simplify=False, opset=None, workspace=4, nms=False, lr0=0.001, lrf=0.01, momentum=0.937, weight_decay=0.0005, warmup_epochs=3.0, warmup_momentum=0.8, warmup_bias_lr=0.1, box=7.5, cls=0.5, dfl=1.5, pose=12.0, kobj=1.0, label_smoothing=0.0, nbs=64, hsv_h=0.015, hsv_s=0.7, hsv_v=0.4, degrees=0.0, translate=0.1, scale=0.5, shear=0.0, perspective=0.0, flipud=0.0, fliplr=0.5, mosaic=1.0, mixup=0.0, copy_paste=0.0, auto_augment=randaugment, erasing=0.4, crop_fraction=1.0, cfg=None, tracker=botsort.yaml, save_dir=runs\\detect\\train11\n",
      "Overriding model.yaml nc=80 with nc=65\n",
      "\n",
      "                   from  n    params  module                                       arguments                     \n",
      "  0                  -1  1       928  ultralytics.nn.modules.conv.Conv             [3, 32, 3, 2]                 \n",
      "  1                  -1  1     18560  ultralytics.nn.modules.conv.Conv             [32, 64, 3, 2]                \n",
      "  2                  -1  1     29056  ultralytics.nn.modules.block.C2f             [64, 64, 1, True]             \n",
      "  3                  -1  1     73984  ultralytics.nn.modules.conv.Conv             [64, 128, 3, 2]               \n",
      "  4                  -1  2    197632  ultralytics.nn.modules.block.C2f             [128, 128, 2, True]           \n",
      "  5                  -1  1    295424  ultralytics.nn.modules.conv.Conv             [128, 256, 3, 2]              \n",
      "  6                  -1  2    788480  ultralytics.nn.modules.block.C2f             [256, 256, 2, True]           \n",
      "  7                  -1  1   1180672  ultralytics.nn.modules.conv.Conv             [256, 512, 3, 2]              \n",
      "  8                  -1  1   1838080  ultralytics.nn.modules.block.C2f             [512, 512, 1, True]           \n",
      "  9                  -1  1    656896  ultralytics.nn.modules.block.SPPF            [512, 512, 5]                 \n",
      " 10                  -1  1         0  torch.nn.modules.upsampling.Upsample         [None, 2, 'nearest']          \n",
      " 11             [-1, 6]  1         0  ultralytics.nn.modules.conv.Concat           [1]                           \n",
      " 12                  -1  1    591360  ultralytics.nn.modules.block.C2f             [768, 256, 1]                 \n",
      " 13                  -1  1         0  torch.nn.modules.upsampling.Upsample         [None, 2, 'nearest']          \n",
      " 14             [-1, 4]  1         0  ultralytics.nn.modules.conv.Concat           [1]                           \n",
      " 15                  -1  1    148224  ultralytics.nn.modules.block.C2f             [384, 128, 1]                 \n",
      " 16                  -1  1    147712  ultralytics.nn.modules.conv.Conv             [128, 128, 3, 2]              \n",
      " 17            [-1, 12]  1         0  ultralytics.nn.modules.conv.Concat           [1]                           \n",
      " 18                  -1  1    493056  ultralytics.nn.modules.block.C2f             [384, 256, 1]                 \n",
      " 19                  -1  1    590336  ultralytics.nn.modules.conv.Conv             [256, 256, 3, 2]              \n",
      " 20             [-1, 9]  1         0  ultralytics.nn.modules.conv.Concat           [1]                           \n",
      " 21                  -1  1   1969152  ultralytics.nn.modules.block.C2f             [768, 512, 1]                 \n",
      " 22        [15, 18, 21]  1   2141203  ultralytics.nn.modules.head.Detect           [65, [128, 256, 512]]         \n",
      "Model summary: 225 layers, 11160755 parameters, 11160739 gradients, 28.8 GFLOPs\n",
      "\n",
      "Transferred 349/355 items from pretrained weights\n",
      "Freezing layer 'model.22.dfl.conv.weight'\n",
      "\u001b[34m\u001b[1mAMP: \u001b[0mrunning Automatic Mixed Precision (AMP) checks with YOLOv8n...\n",
      "\u001b[34m\u001b[1mAMP: \u001b[0mchecks passed ✅\n"
     ]
    },
    {
     "name": "stderr",
     "output_type": "stream",
     "text": [
      "\u001b[34m\u001b[1mtrain: \u001b[0mScanning C:\\Users\\KHU\\workspace_mj\\X_ray\\data_ver2\\train_aug.cache... 97084 images, 189 backgrounds, 0 corrupt: \u001b[0m\n"
     ]
    },
    {
     "name": "stdout",
     "output_type": "stream",
     "text": [
      "\u001b[34m\u001b[1malbumentations: \u001b[0mBlur(p=0.01, blur_limit=(3, 7)), MedianBlur(p=0.01, blur_limit=(3, 7)), ToGray(p=0.01), CLAHE(p=0.01, clip_limit=(1, 4.0), tile_grid_size=(8, 8))\n"
     ]
    },
    {
     "name": "stderr",
     "output_type": "stream",
     "text": [
      "\u001b[34m\u001b[1mval: \u001b[0mScanning C:\\Users\\KHU\\workspace_mj\\X_ray\\data_ver2\\val.cache... 16368 images, 54 backgrounds, 0 corrupt: 100%|████\u001b[0m\n"
     ]
    },
    {
     "name": "stdout",
     "output_type": "stream",
     "text": [
      "Plotting labels to runs\\detect\\train11\\labels.jpg... \n",
      "\u001b[34m\u001b[1moptimizer:\u001b[0m 'optimizer=auto' found, ignoring 'lr0=0.001' and 'momentum=0.937' and determining best 'optimizer', 'lr0' and 'momentum' automatically... \n",
      "\u001b[34m\u001b[1moptimizer:\u001b[0m SGD(lr=0.01, momentum=0.9) with parameter groups 57 weight(decay=0.0), 64 weight(decay=0.0005), 63 bias(decay=0.0)\n",
      "30 epochs...\n",
      "\n",
      "      Epoch    GPU_mem   box_loss   cls_loss   dfl_loss  Instances       Size\n"
     ]
    },
    {
     "name": "stderr",
     "output_type": "stream",
     "text": [
      "       1/30      2.16G      1.241      3.126      1.207          3        640: 100%|██████████| 12136/12136 [28:43<00:0\n",
      "                 Class     Images  Instances      Box(P          R      mAP50  mAP50-95): 100%|██████████| 1023/1023 [0\n"
     ]
    },
    {
     "name": "stdout",
     "output_type": "stream",
     "text": [
      "                   all      16368      23153       0.56      0.422       0.43      0.338\n",
      "\n",
      "      Epoch    GPU_mem   box_loss   cls_loss   dfl_loss  Instances       Size\n"
     ]
    },
    {
     "name": "stderr",
     "output_type": "stream",
     "text": [
      "       2/30      2.28G      1.176       2.08      1.159          9        640: 100%|██████████| 12136/12136 [24:43<00:0\n",
      "                 Class     Images  Instances      Box(P          R      mAP50  mAP50-95): 100%|██████████| 1023/1023 [0\n"
     ]
    },
    {
     "name": "stdout",
     "output_type": "stream",
     "text": [
      "                   all      16368      23153      0.639      0.519      0.569      0.452\n",
      "\n",
      "      Epoch    GPU_mem   box_loss   cls_loss   dfl_loss  Instances       Size\n"
     ]
    },
    {
     "name": "stderr",
     "output_type": "stream",
     "text": [
      "       3/30      2.27G      1.228      2.075      1.197          9        640: 100%|██████████| 12136/12136 [23:49<00:0\n",
      "                 Class     Images  Instances      Box(P          R      mAP50  mAP50-95): 100%|██████████| 1023/1023 [0\n"
     ]
    },
    {
     "name": "stdout",
     "output_type": "stream",
     "text": [
      "                   all      16368      23153      0.677       0.53      0.606      0.481\n",
      "\n",
      "      Epoch    GPU_mem   box_loss   cls_loss   dfl_loss  Instances       Size\n"
     ]
    },
    {
     "name": "stderr",
     "output_type": "stream",
     "text": [
      "       4/30      2.27G      1.204      1.967      1.195         11        640: 100%|██████████| 12136/12136 [23:28<00:0\n",
      "                 Class     Images  Instances      Box(P          R      mAP50  mAP50-95): 100%|██████████| 1023/1023 [0\n"
     ]
    },
    {
     "name": "stdout",
     "output_type": "stream",
     "text": [
      "                   all      16368      23153       0.72      0.601      0.673      0.537\n",
      "\n",
      "      Epoch    GPU_mem   box_loss   cls_loss   dfl_loss  Instances       Size\n"
     ]
    },
    {
     "name": "stderr",
     "output_type": "stream",
     "text": [
      "       5/30      2.26G      1.124      1.744      1.158          9        640: 100%|██████████| 12136/12136 [23:29<00:0\n",
      "                 Class     Images  Instances      Box(P          R      mAP50  mAP50-95): 100%|██████████| 1023/1023 [0\n"
     ]
    },
    {
     "name": "stdout",
     "output_type": "stream",
     "text": [
      "                   all      16368      23153      0.735      0.653      0.723      0.583\n",
      "\n",
      "      Epoch    GPU_mem   box_loss   cls_loss   dfl_loss  Instances       Size\n"
     ]
    },
    {
     "name": "stderr",
     "output_type": "stream",
     "text": [
      "       6/30      2.26G      1.072      1.584       1.13         11        640: 100%|██████████| 12136/12136 [23:22<00:0\n",
      "                 Class     Images  Instances      Box(P          R      mAP50  mAP50-95): 100%|██████████| 1023/1023 [0\n"
     ]
    },
    {
     "name": "stdout",
     "output_type": "stream",
     "text": [
      "                   all      16368      23153      0.774      0.673      0.754      0.612\n",
      "\n",
      "      Epoch    GPU_mem   box_loss   cls_loss   dfl_loss  Instances       Size\n"
     ]
    },
    {
     "name": "stderr",
     "output_type": "stream",
     "text": [
      "       7/30      2.26G       1.03      1.469      1.109          6        640: 100%|██████████| 12136/12136 [23:16<00:0\n",
      "                 Class     Images  Instances      Box(P          R      mAP50  mAP50-95): 100%|██████████| 1023/1023 [0\n"
     ]
    },
    {
     "name": "stdout",
     "output_type": "stream",
     "text": [
      "                   all      16368      23153        0.8      0.693      0.778      0.635\n",
      "\n",
      "      Epoch    GPU_mem   box_loss   cls_loss   dfl_loss  Instances       Size\n"
     ]
    },
    {
     "name": "stderr",
     "output_type": "stream",
     "text": [
      "       8/30      2.26G     0.9995      1.388      1.092          9        640: 100%|██████████| 12136/12136 [23:24<00:0\n",
      "                 Class     Images  Instances      Box(P          R      mAP50  mAP50-95): 100%|██████████| 1023/1023 [0\n"
     ]
    },
    {
     "name": "stdout",
     "output_type": "stream",
     "text": [
      "                   all      16368      23153      0.811      0.716      0.796      0.653\n",
      "\n",
      "      Epoch    GPU_mem   box_loss   cls_loss   dfl_loss  Instances       Size\n"
     ]
    },
    {
     "name": "stderr",
     "output_type": "stream",
     "text": [
      "       9/30      2.26G      0.975      1.315       1.08         15        640: 100%|██████████| 12136/12136 [23:22<00:0\n",
      "                 Class     Images  Instances      Box(P          R      mAP50  mAP50-95): 100%|██████████| 1023/1023 [0\n"
     ]
    },
    {
     "name": "stdout",
     "output_type": "stream",
     "text": [
      "                   all      16368      23153      0.834      0.725      0.808      0.665\n",
      "\n",
      "      Epoch    GPU_mem   box_loss   cls_loss   dfl_loss  Instances       Size\n"
     ]
    },
    {
     "name": "stderr",
     "output_type": "stream",
     "text": [
      "      10/30      2.26G     0.9576      1.265       1.07         15        640: 100%|██████████| 12136/12136 [23:26<00:0\n",
      "                 Class     Images  Instances      Box(P          R      mAP50  mAP50-95): 100%|██████████| 1023/1023 [0\n"
     ]
    },
    {
     "name": "stdout",
     "output_type": "stream",
     "text": [
      "                   all      16368      23153      0.846      0.732      0.818      0.675\n",
      "\n",
      "      Epoch    GPU_mem   box_loss   cls_loss   dfl_loss  Instances       Size\n"
     ]
    },
    {
     "name": "stderr",
     "output_type": "stream",
     "text": [
      "      11/30      2.25G     0.9412      1.212      1.059          6        640: 100%|██████████| 12136/12136 [23:30<00:0\n",
      "                 Class     Images  Instances      Box(P          R      mAP50  mAP50-95): 100%|██████████| 1023/1023 [0\n"
     ]
    },
    {
     "name": "stdout",
     "output_type": "stream",
     "text": [
      "                   all      16368      23153      0.853       0.74      0.828      0.685\n",
      "\n",
      "      Epoch    GPU_mem   box_loss   cls_loss   dfl_loss  Instances       Size\n"
     ]
    },
    {
     "name": "stderr",
     "output_type": "stream",
     "text": [
      "      12/30      2.26G     0.9216      1.166      1.048         16        640: 100%|██████████| 12136/12136 [23:22<00:0\n",
      "                 Class     Images  Instances      Box(P          R      mAP50  mAP50-95): 100%|██████████| 1023/1023 [0\n"
     ]
    },
    {
     "name": "stdout",
     "output_type": "stream",
     "text": [
      "                   all      16368      23153      0.864      0.745      0.836      0.693\n",
      "\n",
      "      Epoch    GPU_mem   box_loss   cls_loss   dfl_loss  Instances       Size\n"
     ]
    },
    {
     "name": "stderr",
     "output_type": "stream",
     "text": [
      "      13/30      2.25G      0.908      1.127       1.04          5        640: 100%|██████████| 12136/12136 [23:20<00:0\n",
      "                 Class     Images  Instances      Box(P          R      mAP50  mAP50-95): 100%|██████████| 1023/1023 [0\n"
     ]
    },
    {
     "name": "stdout",
     "output_type": "stream",
     "text": [
      "                   all      16368      23153      0.871      0.751      0.844      0.701\n",
      "\n",
      "      Epoch    GPU_mem   box_loss   cls_loss   dfl_loss  Instances       Size\n"
     ]
    },
    {
     "name": "stderr",
     "output_type": "stream",
     "text": [
      "      14/30      2.25G     0.8959      1.094      1.035         11        640: 100%|██████████| 12136/12136 [23:29<00:0\n",
      "                 Class     Images  Instances      Box(P          R      mAP50  mAP50-95): 100%|██████████| 1023/1023 [0\n"
     ]
    },
    {
     "name": "stdout",
     "output_type": "stream",
     "text": [
      "                   all      16368      23153      0.868      0.763      0.852      0.708\n",
      "\n",
      "      Epoch    GPU_mem   box_loss   cls_loss   dfl_loss  Instances       Size\n"
     ]
    },
    {
     "name": "stderr",
     "output_type": "stream",
     "text": [
      "      15/30      2.25G     0.8812      1.059      1.027          5        640: 100%|██████████| 12136/12136 [23:27<00:0\n",
      "                 Class     Images  Instances      Box(P          R      mAP50  mAP50-95): 100%|██████████| 1023/1023 [0\n"
     ]
    },
    {
     "name": "stdout",
     "output_type": "stream",
     "text": [
      "                   all      16368      23153       0.86       0.78       0.86      0.716\n",
      "\n",
      "      Epoch    GPU_mem   box_loss   cls_loss   dfl_loss  Instances       Size\n"
     ]
    },
    {
     "name": "stderr",
     "output_type": "stream",
     "text": [
      "      16/30      2.25G      0.867      1.027      1.021          7        640: 100%|██████████| 12136/12136 [23:23<00:0\n",
      "                 Class     Images  Instances      Box(P          R      mAP50  mAP50-95): 100%|██████████| 1023/1023 [0\n"
     ]
    },
    {
     "name": "stdout",
     "output_type": "stream",
     "text": [
      "                   all      16368      23153      0.874      0.788      0.868      0.723\n",
      "\n",
      "      Epoch    GPU_mem   box_loss   cls_loss   dfl_loss  Instances       Size\n"
     ]
    },
    {
     "name": "stderr",
     "output_type": "stream",
     "text": [
      "      17/30      2.25G     0.8607      1.004      1.016          6        640: 100%|██████████| 12136/12136 [23:24<00:0\n",
      "                 Class     Images  Instances      Box(P          R      mAP50  mAP50-95): 100%|██████████| 1023/1023 [0\n"
     ]
    },
    {
     "name": "stdout",
     "output_type": "stream",
     "text": [
      "                   all      16368      23153      0.876      0.797      0.874       0.73\n",
      "\n",
      "      Epoch    GPU_mem   box_loss   cls_loss   dfl_loss  Instances       Size\n"
     ]
    },
    {
     "name": "stderr",
     "output_type": "stream",
     "text": [
      "      18/30      2.26G     0.8483     0.9722      1.011         15        640: 100%|██████████| 12136/12136 [23:30<00:0\n",
      "                 Class     Images  Instances      Box(P          R      mAP50  mAP50-95): 100%|██████████| 1023/1023 [0\n"
     ]
    },
    {
     "name": "stdout",
     "output_type": "stream",
     "text": [
      "                   all      16368      23153      0.885      0.802       0.88      0.736\n",
      "\n",
      "      Epoch    GPU_mem   box_loss   cls_loss   dfl_loss  Instances       Size\n"
     ]
    },
    {
     "name": "stderr",
     "output_type": "stream",
     "text": [
      "      19/30      2.25G     0.8342      0.943      1.004          7        640: 100%|██████████| 12136/12136 [23:29<00:0\n",
      "                 Class     Images  Instances      Box(P          R      mAP50  mAP50-95): 100%|██████████| 1023/1023 [0\n"
     ]
    },
    {
     "name": "stdout",
     "output_type": "stream",
     "text": [
      "                   all      16368      23153      0.891      0.808      0.886      0.742\n",
      "\n",
      "      Epoch    GPU_mem   box_loss   cls_loss   dfl_loss  Instances       Size\n"
     ]
    },
    {
     "name": "stderr",
     "output_type": "stream",
     "text": [
      "      20/30      2.25G     0.8251     0.9208     0.9997         12        640: 100%|██████████| 12136/12136 [23:29<00:0\n",
      "                 Class     Images  Instances      Box(P          R      mAP50  mAP50-95): 100%|██████████| 1023/1023 [0\n"
     ]
    },
    {
     "name": "stdout",
     "output_type": "stream",
     "text": [
      "                   all      16368      23153      0.896      0.817      0.892      0.748\n",
      "\n",
      "      Epoch    GPU_mem   box_loss   cls_loss   dfl_loss  Instances       Size\n"
     ]
    },
    {
     "name": "stderr",
     "output_type": "stream",
     "text": [
      "      21/30      2.25G     0.8149     0.8901     0.9936          9        640: 100%|██████████| 12136/12136 [23:33<00:0\n",
      "                 Class     Images  Instances      Box(P          R      mAP50  mAP50-95): 100%|██████████| 1023/1023 [0\n"
     ]
    },
    {
     "name": "stdout",
     "output_type": "stream",
     "text": [
      "                   all      16368      23153      0.901      0.822      0.897      0.755\n",
      "\n",
      "      Epoch    GPU_mem   box_loss   cls_loss   dfl_loss  Instances       Size\n"
     ]
    },
    {
     "name": "stderr",
     "output_type": "stream",
     "text": [
      "      22/30      2.25G     0.8012     0.8635     0.9879          6        640: 100%|██████████| 12136/12136 [23:24<00:0\n",
      "                 Class     Images  Instances      Box(P          R      mAP50  mAP50-95): 100%|██████████| 1023/1023 [0\n"
     ]
    },
    {
     "name": "stdout",
     "output_type": "stream",
     "text": [
      "                   all      16368      23153        0.9      0.829      0.902       0.76\n",
      "\n",
      "      Epoch    GPU_mem   box_loss   cls_loss   dfl_loss  Instances       Size\n"
     ]
    },
    {
     "name": "stderr",
     "output_type": "stream",
     "text": [
      "      23/30      2.25G     0.7878      0.837     0.9819         16        640: 100%|██████████| 12136/12136 [23:24<00:0\n",
      "                 Class     Images  Instances      Box(P          R      mAP50  mAP50-95): 100%|██████████| 1023/1023 [0\n"
     ]
    },
    {
     "name": "stdout",
     "output_type": "stream",
     "text": [
      "                   all      16368      23153      0.902      0.838      0.907      0.765\n",
      "\n",
      "      Epoch    GPU_mem   box_loss   cls_loss   dfl_loss  Instances       Size\n"
     ]
    },
    {
     "name": "stderr",
     "output_type": "stream",
     "text": [
      "      24/30      2.25G     0.7766      0.808     0.9775          5        640: 100%|██████████| 12136/12136 [23:21<00:0\n",
      "                 Class     Images  Instances      Box(P          R      mAP50  mAP50-95): 100%|██████████| 1023/1023 [0\n"
     ]
    },
    {
     "name": "stdout",
     "output_type": "stream",
     "text": [
      "                   all      16368      23153        0.9      0.848      0.911      0.771\n",
      "\n",
      "      Epoch    GPU_mem   box_loss   cls_loss   dfl_loss  Instances       Size\n"
     ]
    },
    {
     "name": "stderr",
     "output_type": "stream",
     "text": [
      "      25/30      2.25G     0.7636     0.7837     0.9705         10        640: 100%|██████████| 12136/12136 [23:25<00:0\n",
      "                 Class     Images  Instances      Box(P          R      mAP50  mAP50-95): 100%|██████████| 1023/1023 [0\n"
     ]
    },
    {
     "name": "stdout",
     "output_type": "stream",
     "text": [
      "                   all      16368      23153      0.902      0.853      0.915      0.776\n",
      "\n",
      "      Epoch    GPU_mem   box_loss   cls_loss   dfl_loss  Instances       Size\n"
     ]
    },
    {
     "name": "stderr",
     "output_type": "stream",
     "text": [
      "      26/30      2.25G     0.7503     0.7564     0.9633         10        640: 100%|██████████| 12136/12136 [23:33<00:0\n",
      "                 Class     Images  Instances      Box(P          R      mAP50  mAP50-95): 100%|██████████| 1023/1023 [0\n"
     ]
    },
    {
     "name": "stdout",
     "output_type": "stream",
     "text": [
      "                   all      16368      23153      0.903       0.86      0.918       0.78\n",
      "\n",
      "      Epoch    GPU_mem   box_loss   cls_loss   dfl_loss  Instances       Size\n"
     ]
    },
    {
     "name": "stderr",
     "output_type": "stream",
     "text": [
      "      27/30      2.25G     0.7387     0.7322     0.9582          4        640: 100%|██████████| 12136/12136 [23:25<00:0\n",
      "                 Class     Images  Instances      Box(P          R      mAP50  mAP50-95): 100%|██████████| 1023/1023 [0\n"
     ]
    },
    {
     "name": "stdout",
     "output_type": "stream",
     "text": [
      "                   all      16368      23153      0.909      0.865      0.921      0.784\n",
      "\n",
      "      Epoch    GPU_mem   box_loss   cls_loss   dfl_loss  Instances       Size\n"
     ]
    },
    {
     "name": "stderr",
     "output_type": "stream",
     "text": [
      "      28/30      2.25G     0.7248      0.708     0.9541         12        640: 100%|██████████| 12136/12136 [23:25<00:0\n",
      "                 Class     Images  Instances      Box(P          R      mAP50  mAP50-95): 100%|██████████| 1023/1023 [0\n"
     ]
    },
    {
     "name": "stdout",
     "output_type": "stream",
     "text": [
      "                   all      16368      23153      0.907      0.872      0.924      0.788\n",
      "\n",
      "      Epoch    GPU_mem   box_loss   cls_loss   dfl_loss  Instances       Size\n"
     ]
    },
    {
     "name": "stderr",
     "output_type": "stream",
     "text": [
      "      29/30      2.25G      0.711     0.6827     0.9479         15        640: 100%|██████████| 12136/12136 [23:25<00:0\n",
      "                 Class     Images  Instances      Box(P          R      mAP50  mAP50-95): 100%|██████████| 1023/1023 [0\n"
     ]
    },
    {
     "name": "stdout",
     "output_type": "stream",
     "text": [
      "                   all      16368      23153      0.914      0.875      0.927      0.792\n",
      "\n",
      "      Epoch    GPU_mem   box_loss   cls_loss   dfl_loss  Instances       Size\n"
     ]
    },
    {
     "name": "stderr",
     "output_type": "stream",
     "text": [
      "      30/30      2.25G     0.6968     0.6571     0.9427          8        640: 100%|██████████| 12136/12136 [23:25<00:0\n",
      "                 Class     Images  Instances      Box(P          R      mAP50  mAP50-95): 100%|██████████| 1023/1023 [0\n"
     ]
    },
    {
     "name": "stdout",
     "output_type": "stream",
     "text": [
      "                   all      16368      23153       0.92      0.877      0.931      0.795\n",
      "\n",
      "30 epochs completed in 12.961 hours.\n",
      "Optimizer stripped from runs\\detect\\train11\\weights\\last.pt, 22.5MB\n",
      "Optimizer stripped from runs\\detect\\train11\\weights\\best.pt, 22.5MB\n",
      "\n",
      "Validating runs\\detect\\train11\\weights\\best.pt...\n",
      "Ultralytics YOLOv8.1.2 🚀 Python-3.9.13 torch-1.13.1+cu116 CUDA:0 (NVIDIA GeForce RTX 3090, 24576MiB)\n",
      "Model summary (fused): 168 layers, 11150739 parameters, 0 gradients, 28.6 GFLOPs\n"
     ]
    },
    {
     "name": "stderr",
     "output_type": "stream",
     "text": [
      "                 Class     Images  Instances      Box(P          R      mAP50  mAP50-95): 100%|██████████| 1023/1023 [0\n"
     ]
    },
    {
     "name": "stdout",
     "output_type": "stream",
     "text": [
      "                   all      16368      23153       0.92      0.877      0.931      0.795\n",
      "                Pistol      16368        577      0.913      0.847      0.913      0.765\n",
      "                 Rifle      16368         35      0.871      0.775      0.857      0.647\n",
      "               Magazin      16368        144      0.906      0.972      0.979      0.837\n",
      "          Speargun tip      16368        155      0.973      0.946      0.978      0.918\n",
      "        Shuriken-metal      16368        111       0.98      0.879      0.972      0.779\n",
      "        Dart pin-metal      16368        124      0.949      0.752      0.841      0.543\n",
      "   Electroshock weapon      16368         64      0.907      0.797      0.944      0.666\n",
      "    Self-defense spray      16368        279      0.887      0.864      0.905      0.711\n",
      "                    Ax      16368        300      0.927      0.969      0.966      0.913\n",
      "               Knife-A      16368       1869      0.933      0.899      0.958      0.826\n",
      "               Knife-F      16368       1485      0.847      0.855      0.908      0.747\n",
      "               Knife-B      16368        780      0.825      0.801      0.866      0.678\n",
      "               Knife-C      16368        151      0.921      0.987      0.992      0.924\n",
      "               Knife-D      16368       1324      0.888      0.842      0.929      0.762\n",
      "           Knife blade      16368        559      0.814       0.51      0.622      0.409\n",
      "        Surgical knife      16368         70       0.72      0.171      0.352      0.188\n",
      "    Multipurpose knife      16368        774      0.934      0.909      0.965      0.789\n",
      "       Butterfly knife      16368        141      0.898      0.943      0.966      0.849\n",
      "              Karambit      16368        159      0.979      0.892      0.977      0.807\n",
      "Stratight razor-folding      16368        218      0.917      0.862      0.935      0.744\n",
      "            Scissors-A      16368       2539       0.96      0.906      0.966      0.852\n",
      "            Scissors-E      16368        448      0.936      0.878      0.947      0.814\n",
      "               Knuckle      16368        320      0.983      0.907      0.975      0.889\n",
      "                Hammer      16368       1256      0.969      0.951      0.985      0.932\n",
      "               Crowbar      16368         73      0.895      0.904      0.952       0.86\n",
      "                 Drill      16368        378      0.981      0.981      0.993      0.921\n",
      "                Driver      16368        450      0.919      0.888      0.945       0.73\n",
      "                Chisel      16368        262      0.919      0.947      0.983      0.847\n",
      "         Monkey wrench      16368        260       0.95      0.958       0.97      0.911\n",
      "           Pipe wrench      16368        127      0.974      0.984      0.995      0.926\n",
      "               Spanner      16368        802      0.961      0.948      0.986      0.908\n",
      "Podger ratcheting spanners      16368        255      0.963      0.931      0.983      0.899\n",
      "         Offset wrench      16368        379      0.969      0.974      0.981      0.913\n",
      "        Ratchet handle      16368        133      0.931      0.916      0.972      0.882\n",
      "     Combination Plier      16368        310       0.95      0.919       0.98      0.913\n",
      "                Nipper      16368        242      0.905      0.946      0.958      0.838\n",
      "       Long nose plier      16368        205      0.947      0.961      0.987      0.915\n",
      "            Vise plier      16368        279      0.935      0.971       0.98      0.926\n",
      "                   Awl      16368        349      0.926      0.837      0.932      0.745\n",
      "                Shovel      16368        112      0.967      0.982      0.995      0.974\n",
      "                  Homi      16368         66      0.872      0.894       0.93      0.858\n",
      "           Bolt cutter      16368         86      0.995          1      0.995      0.954\n",
      "                   Saw      16368        316      0.973      0.915      0.974      0.857\n",
      "             Saw blade      16368        303      0.863      0.931      0.958      0.876\n",
      "          Electric saw      16368         20      0.873       0.95      0.983      0.903\n",
      "         Baton-folding      16368        110       0.96      0.927      0.983      0.885\n",
      "               Grenade      16368         84      0.906      0.952      0.977      0.815\n",
      "         Smoke grenade      16368         73      0.891       0.89      0.955      0.748\n",
      "           Firecracker      16368        355      0.899      0.731      0.798      0.572\n",
      "            Solid fuel      16368        306      0.937       0.97      0.984      0.898\n",
      "              Nunchaku      16368        190      0.954      0.926      0.958      0.803\n",
      "               Knife-E      16368        761      0.884      0.739      0.845      0.629\n",
      "               Knife-G      16368         48      0.887      0.656      0.787      0.677\n",
      "    Green onion slicer      16368        118      0.928      0.875      0.918      0.696\n",
      "                Sickle      16368        124      0.961      0.968      0.992      0.902\n",
      "    Hex key(over 10cm)      16368        291      0.943      0.914      0.963      0.851\n",
      "                   Hoe      16368        132      0.941      0.955       0.98      0.887\n",
      "               Kubotan      16368        312      0.917      0.901      0.968      0.818\n",
      "                   Bow      16368         56      0.905      0.696      0.816      0.538\n",
      "             Arrow tip      16368        176      0.902      0.681      0.835      0.636\n",
      "   Drill bit(over 6cm)      16368        202      0.921       0.92       0.97      0.754\n",
      "             Buttstock      16368         72      0.903       0.91      0.946      0.854\n",
      "            Scissors-F      16368        117      0.944      0.869       0.93      0.758\n",
      "            Card knife      16368        268      0.807      0.797      0.814      0.617\n",
      "Hazardous goods(metal)      16368         69       0.91       0.87      0.939      0.814\n",
      "Speed: 0.1ms preprocess, 3.0ms inference, 0.0ms loss, 1.9ms postprocess per image\n",
      "Results saved to \u001b[1mruns\\detect\\train11\u001b[0m\n"
     ]
    }
   ],
   "source": [
    "from ultralytics import YOLO\n",
    "model = YOLO(\"yolov8s.pt\")\n",
    "\n",
    "results = model.train(\n",
    "    data=\"./data_ver2/data_aug.yaml\",\n",
    "    imgsz=IMGSZ,\n",
    "    epochs=EPOCH,\n",
    "    batch=BATCH_SIZE,\n",
    "    val = True,\n",
    "    save = True,\n",
    "    patience=5,\n",
    "    #optimizer=\"AdamW\",\n",
    "    close_mosaic = 0,\n",
    "    lr0=1e-3\n",
    "    )"
   ]
  },
  {
   "cell_type": "code",
   "execution_count": null,
   "id": "a15c931f",
   "metadata": {},
   "outputs": [],
   "source": []
  }
 ],
 "metadata": {
  "kernelspec": {
   "display_name": "Python 3 (ipykernel)",
   "language": "python",
   "name": "python3"
  },
  "language_info": {
   "codemirror_mode": {
    "name": "ipython",
    "version": 3
   },
   "file_extension": ".py",
   "mimetype": "text/x-python",
   "name": "python",
   "nbconvert_exporter": "python",
   "pygments_lexer": "ipython3",
   "version": "3.9.13"
  }
 },
 "nbformat": 4,
 "nbformat_minor": 5
}
