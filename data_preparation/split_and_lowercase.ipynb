{
 "cells": [
  {
   "cell_type": "code",
   "execution_count": 1,
   "id": "9f04cf97",
   "metadata": {},
   "outputs": [],
   "source": [
    "import os\n",
    "import shutil\n",
    "import random"
   ]
  },
  {
   "cell_type": "code",
   "execution_count": 6,
   "id": "bcd6e897",
   "metadata": {},
   "outputs": [],
   "source": [
    "def split_data(src_directory, img_dir, train_size=0.8):\n",
    "    train_directory = os.path.join(src_directory, 'train')\n",
    "    val_directory = os.path.join(src_directory, 'val')\n",
    "    os.makedirs(train_directory, exist_ok=True)\n",
    "    os.makedirs(val_directory, exist_ok=True)\n",
    "\n",
    "    # .jpg와 .png 파일만 고려\n",
    "    all_images = [f for f in os.listdir(img_dir) if f.endswith('.jpg') or f.endswith('.png')]\n",
    "\n",
    "    random.shuffle(all_images)\n",
    "    train_size = int(len(all_images) * train_size)\n",
    "    train_images = all_images[:train_size]\n",
    "    val_images = all_images[train_size:]\n",
    "\n",
    "    for image in train_images:\n",
    "        shutil.move(os.path.join(img_dir, image), train_directory)\n",
    "    for image in val_images:\n",
    "        shutil.move(os.path.join(img_dir, image), val_directory)\n",
    "\n",
    "src_directory = 'C:/Users/KHU/workspace_mj/X_ray/data_ver2/'\n",
    "img_dir = 'C:/Users/KHU/workspace_mj/X_ray/data_ver2/png_unzip'\n",
    "\n",
    "split_data(src_directory, img_dir)"
   ]
  },
  {
   "cell_type": "code",
   "execution_count": 8,
   "id": "71c6e397",
   "metadata": {},
   "outputs": [],
   "source": [
    "def move_label_files(src_directory, label_dir, train_dir, val_dir):\n",
    "    train_images = {os.path.splitext(f)[0].lower() for f in os.listdir(train_dir) if f.endswith('.png') or f.endswith('.jpg')}\n",
    "    val_images = {os.path.splitext(f)[0].lower() for f in os.listdir(val_dir) if f.endswith('.png') or f.endswith('.jpg')}\n",
    "\n",
    "    train_label_dir = os.path.join(src_directory, 'train')\n",
    "    val_label_dir = os.path.join(src_directory, 'val')\n",
    "    os.makedirs(train_label_dir, exist_ok=True)\n",
    "    os.makedirs(val_label_dir, exist_ok=True)\n",
    "\n",
    "    for label_file in os.listdir(label_dir):\n",
    "        if label_file.endswith('.txt'):\n",
    "            file_name = os.path.splitext(label_file)[0].lower()\n",
    "\n",
    "            try:\n",
    "                if file_name in train_images:\n",
    "                    shutil.move(os.path.join(label_dir, label_file), train_label_dir)\n",
    "                elif file_name in val_images:\n",
    "                    shutil.move(os.path.join(label_dir, label_file), val_label_dir)\n",
    "            except Exception as e:\n",
    "                print(f\"Error moving file {label_file}: {e}\")\n",
    "\n",
    "\n",
    "src_directory = 'C:/Users/KHU/workspace_mj/X_ray/data_ver2/'\n",
    "label_dir = 'C:/Users/KHU/workspace_mj/X_ray/data_ver2/yololabels'\n",
    "train_dir = 'C:/Users/KHU/workspace_mj/X_ray/data_ver2/train'\n",
    "val_dir = 'C:/Users/KHU/workspace_mj/X_ray/data_ver2/val'\n",
    "move_label_files(src_directory, label_dir, train_dir, val_dir)"
   ]
  },
  {
   "cell_type": "code",
   "execution_count": 9,
   "id": "e9a7b7b7",
   "metadata": {},
   "outputs": [],
   "source": [
    "import os\n",
    "\n",
    "def rename_files_in_directory(directory):\n",
    "    for filename in os.listdir(directory):\n",
    "        os.rename(os.path.join(directory, filename), os.path.join(directory, filename.lower()))\n",
    "\n",
    "directories = [\n",
    "    \"C:/Users/KHU/workspace_mj/X_ray/data_ver2/train\",\n",
    "    \"C:/Users/KHU/workspace_mj/X_ray/data_ver2/val\"\n",
    "]\n",
    "\n",
    "for dir in directories:\n",
    "    rename_files_in_directory(dir)\n"
   ]
  },
  {
   "cell_type": "code",
   "execution_count": null,
   "id": "042a0fd4",
   "metadata": {},
   "outputs": [],
   "source": []
  }
 ],
 "metadata": {
  "kernelspec": {
   "display_name": "Python 3 (ipykernel)",
   "language": "python",
   "name": "python3"
  },
  "language_info": {
   "codemirror_mode": {
    "name": "ipython",
    "version": 3
   },
   "file_extension": ".py",
   "mimetype": "text/x-python",
   "name": "python",
   "nbconvert_exporter": "python",
   "pygments_lexer": "ipython3",
   "version": "3.9.13"
  }
 },
 "nbformat": 4,
 "nbformat_minor": 5
}
