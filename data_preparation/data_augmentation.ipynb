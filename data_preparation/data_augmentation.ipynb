{
 "cells": [
  {
   "cell_type": "code",
   "execution_count": 1,
   "id": "72fd812e",
   "metadata": {},
   "outputs": [
    {
     "name": "stdout",
     "output_type": "stream",
     "text": [
      "Requirement already satisfied: opencv-python in c:\\users\\khu\\anaconda3\\lib\\site-packages (4.8.1.78)\n",
      "Requirement already satisfied: albumentations in c:\\users\\khu\\anaconda3\\lib\\site-packages (1.3.1)\n",
      "Requirement already satisfied: numpy>=1.17.0 in c:\\users\\khu\\anaconda3\\lib\\site-packages (from opencv-python) (1.24.4)\n",
      "Requirement already satisfied: PyYAML in c:\\users\\khu\\anaconda3\\lib\\site-packages (from albumentations) (6.0)\n",
      "Requirement already satisfied: opencv-python-headless>=4.1.1 in c:\\users\\khu\\anaconda3\\lib\\site-packages (from albumentations) (4.9.0.80)\n",
      "Requirement already satisfied: qudida>=0.0.4 in c:\\users\\khu\\anaconda3\\lib\\site-packages (from albumentations) (0.0.4)\n",
      "Requirement already satisfied: scipy>=1.1.0 in c:\\users\\khu\\anaconda3\\lib\\site-packages (from albumentations) (1.9.1)\n",
      "Requirement already satisfied: scikit-image>=0.16.1 in c:\\users\\khu\\anaconda3\\lib\\site-packages (from albumentations) (0.19.2)\n",
      "Requirement already satisfied: typing-extensions in c:\\users\\khu\\anaconda3\\lib\\site-packages (from qudida>=0.0.4->albumentations) (4.3.0)\n",
      "Requirement already satisfied: scikit-learn>=0.19.1 in c:\\users\\khu\\anaconda3\\lib\\site-packages (from qudida>=0.0.4->albumentations) (1.0.2)\n",
      "Requirement already satisfied: imageio>=2.4.1 in c:\\users\\khu\\anaconda3\\lib\\site-packages (from scikit-image>=0.16.1->albumentations) (2.19.3)\n",
      "Requirement already satisfied: pillow!=7.1.0,!=7.1.1,!=8.3.0,>=6.1.0 in c:\\users\\khu\\anaconda3\\lib\\site-packages (from scikit-image>=0.16.1->albumentations) (10.1.0)\n",
      "Requirement already satisfied: packaging>=20.0 in c:\\users\\khu\\anaconda3\\lib\\site-packages (from scikit-image>=0.16.1->albumentations) (21.3)\n",
      "Requirement already satisfied: PyWavelets>=1.1.1 in c:\\users\\khu\\anaconda3\\lib\\site-packages (from scikit-image>=0.16.1->albumentations) (1.3.0)\n",
      "Requirement already satisfied: networkx>=2.2 in c:\\users\\khu\\anaconda3\\lib\\site-packages (from scikit-image>=0.16.1->albumentations) (2.8.4)\n",
      "Requirement already satisfied: tifffile>=2019.7.26 in c:\\users\\khu\\anaconda3\\lib\\site-packages (from scikit-image>=0.16.1->albumentations) (2021.7.2)\n",
      "Requirement already satisfied: pyparsing!=3.0.5,>=2.0.2 in c:\\users\\khu\\anaconda3\\lib\\site-packages (from packaging>=20.0->scikit-image>=0.16.1->albumentations) (2.4.7)\n",
      "Requirement already satisfied: joblib>=0.11 in c:\\users\\khu\\anaconda3\\lib\\site-packages (from scikit-learn>=0.19.1->qudida>=0.0.4->albumentations) (1.1.0)\n",
      "Requirement already satisfied: threadpoolctl>=2.0.0 in c:\\users\\khu\\anaconda3\\lib\\site-packages (from scikit-learn>=0.19.1->qudida>=0.0.4->albumentations) (2.2.0)\n"
     ]
    }
   ],
   "source": [
    "! pip install opencv-python albumentations"
   ]
  },
  {
   "cell_type": "code",
   "execution_count": 2,
   "id": "9d190dd1",
   "metadata": {},
   "outputs": [],
   "source": [
    "import cv2\n",
    "import albumentations as A\n",
    "import os\n",
    "\n",
    "dataset_path = 'C:\\\\Users\\\\KHU\\\\workspace_mj\\\\X_ray\\\\data_ver2\\\\train_aug\\\\'\n",
    "\n",
    "target_class_ids = (1, 2, 3, 4, 5, 6, 7, 8, 12, 15, 17, 18, 19, 21, 22, 24, 25, 26, 27, 28, 29, 31, 32, 33, 34, 35, 36, 37, 38, 39, 40, 41, 42, 43, 44, 45, 46, 47, 48, 49, 50, 52, 53, 54, 55, 56, 57, 58, 59, 60, 61, 62, 63, 64,65)\n",
    "\n",
    "transform = A.Compose([\n",
    "    A.HorizontalFlip(p=0.5),\n",
    "    A.Rotate(limit=90, p=0.5),\n",
    "], bbox_params=A.BboxParams(format='yolo', label_fields=['class_labels']))\n",
    "\n",
    "for filename in os.listdir(dataset_path):\n",
    "    if filename.endswith('.png'):\n",
    "        image_path = os.path.join(dataset_path, filename)\n",
    "        txt_path = os.path.splitext(image_path)[0] + '.txt'\n",
    "\n",
    "        image = cv2.imread(image_path)\n",
    "        image = cv2.cvtColor(image, cv2.COLOR_BGR2RGB)\n",
    "\n",
    "        bboxes = []\n",
    "        class_labels = []\n",
    "        with open(txt_path, 'r') as file:\n",
    "            for line in file:\n",
    "                class_id, x_center, y_center, width, height = map(float, line.split())\n",
    "\n",
    "                if class_id in target_class_ids:\n",
    "                    bboxes.append([x_center, y_center, width, height])\n",
    "                    class_labels.append(class_id)\n",
    "\n",
    "        if bboxes:\n",
    "            transformed = transform(image=image, bboxes=bboxes, class_labels=class_labels)\n",
    "            transformed_image = transformed['image']\n",
    "            transformed_bboxes = transformed['bboxes']\n",
    "\n",
    "            transformed_image_path = os.path.splitext(image_path)[0] + '_augmented.jpg'\n",
    "            transformed_image = cv2.cvtColor(transformed_image, cv2.COLOR_RGB2BGR)\n",
    "            cv2.imwrite(transformed_image_path, transformed_image)\n",
    "\n",
    "            transformed_txt_path = os.path.splitext(txt_path)[0] + '_augmented.txt'\n",
    "            with open(transformed_txt_path, 'w') as file:\n",
    "                for bbox, class_id in zip(transformed_bboxes, class_labels):\n",
    "                    file.write(f\"{class_id} {' '.join(map(str, bbox))}\\n\")"
   ]
  },
  {
   "cell_type": "code",
   "execution_count": null,
   "id": "7447a6a1",
   "metadata": {},
   "outputs": [],
   "source": []
  }
 ],
 "metadata": {
  "kernelspec": {
   "display_name": "Python 3 (ipykernel)",
   "language": "python",
   "name": "python3"
  },
  "language_info": {
   "codemirror_mode": {
    "name": "ipython",
    "version": 3
   },
   "file_extension": ".py",
   "mimetype": "text/x-python",
   "name": "python",
   "nbconvert_exporter": "python",
   "pygments_lexer": "ipython3",
   "version": "3.9.13"
  }
 },
 "nbformat": 4,
 "nbformat_minor": 5
}
