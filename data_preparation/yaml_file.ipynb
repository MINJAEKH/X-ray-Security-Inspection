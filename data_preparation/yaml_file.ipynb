{
 "cells": [
  {
   "cell_type": "code",
   "execution_count": 1,
   "id": "7a8bea80",
   "metadata": {},
   "outputs": [],
   "source": [
    "import yaml\n",
    "\n",
    "def convert_txt_to_yaml(txt_file_path, yaml_file_path, train_path, val_path, test_path):\n",
    "    with open(txt_file_path, 'r') as file:\n",
    "        lines = file.readlines()\n",
    "\n",
    "    categories = [line.strip().split(': ')[1] for line in lines]\n",
    "    data = {\n",
    "        'nc': len(categories),\n",
    "        'names': categories,\n",
    "        'train': train_path,\n",
    "        'val': val_path,\n",
    "        'test': test_path\n",
    "    }\n",
    "\n",
    "    with open(yaml_file_path, 'w') as yamlfile:\n",
    "        yaml.dump(data, yamlfile, default_flow_style=False)\n",
    "\n",
    "# 파일 경로 및 데이터셋 경로\n",
    "txt_file_path = 'C:/Users/KHU/workspace_mj/X_ray/data_ver2/category_names.txt'\n",
    "yaml_file_path = 'C:/Users/KHU/workspace_mj/X_ray/data_ver2/data.yaml'\n",
    "train_path = 'C:/Users/KHU/workspace_mj/X_ray/data_ver2/train'\n",
    "val_path = 'C:/Users/KHU/workspace_mj/X_ray/data_ver2/val'\n",
    "test_path = 'C:/Users/KHU/workspace_mj/X_ray/data_ver2/test'\n",
    "\n",
    "convert_txt_to_yaml(txt_file_path, yaml_file_path, train_path, val_path, test_path)\n"
   ]
  },
  {
   "cell_type": "code",
   "execution_count": null,
   "id": "6078ebda",
   "metadata": {},
   "outputs": [],
   "source": []
  }
 ],
 "metadata": {
  "kernelspec": {
   "display_name": "Python 3 (ipykernel)",
   "language": "python",
   "name": "python3"
  },
  "language_info": {
   "codemirror_mode": {
    "name": "ipython",
    "version": 3
   },
   "file_extension": ".py",
   "mimetype": "text/x-python",
   "name": "python",
   "nbconvert_exporter": "python",
   "pygments_lexer": "ipython3",
   "version": "3.9.13"
  }
 },
 "nbformat": 4,
 "nbformat_minor": 5
}
