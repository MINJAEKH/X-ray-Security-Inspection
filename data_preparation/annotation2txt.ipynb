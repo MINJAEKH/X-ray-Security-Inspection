{
 "cells": [
  {
   "cell_type": "code",
   "execution_count": 70,
   "id": "243c5f1d",
   "metadata": {},
   "outputs": [
    {
     "name": "stdout",
     "output_type": "stream",
     "text": [
      "['Green onion slicer', 'Awl', 'Pistol', 'Scissors-A', 'Stratight razor-folding', 'Knife-D', 'Hex key(over 10cm)', 'Spanner', 'Hammer', 'Knife-C', 'Saw', 'Knife-E', 'Long nose plier', 'Knife-G', 'Saw blade', 'Knife blade', 'Electric saw', 'Surgical knife', 'Butterfly knife', 'Crowbar', 'Grenade', 'Knife-A', 'Drill bit(over 6cm)', 'Shuriken-metal', 'Electroshock weapon', 'Scissors-F', 'Multipurpose knife', 'Nunchaku', 'Ratchet handle', 'Homi', 'Combination Plier', 'Driver', 'Sickle', 'Hoe', 'Offset wrench', 'Kubotan', 'Card knife', 'Smoke grenade', 'Bolt cutter', 'Monkey wrench', 'Knife-B', 'Knife-F', 'Shovel', 'Magazin', 'Podger ratcheting spanners', 'Scissors-E', 'Dart pin-metal', 'Drill', 'Rifle', 'Speargun tip', 'Baton-folding', 'Chisel', 'Pipe wrench', 'Ax', 'Vise plier', 'Bow', 'Karambit', 'Firecracker', 'Hazardous goods(metal)', 'Nipper', 'Buttstock', 'Self-defense spray', 'Arrow tip', 'Knuckle', 'Solid fuel']\n"
     ]
    }
   ],
   "source": [
    "import pandas as pd\n",
    "import re\n",
    "\n",
    "def extract_text_after_keyword(row, keyword):\n",
    "    items = []\n",
    "    \n",
    "    pattern = re.compile(f\"{re.escape(keyword)}_([^_]+)\")\n",
    "    match = pattern.search(row)\n",
    "    if match:\n",
    "        item = match.group(1)\n",
    "        items.append(item)\n",
    "    return items\n",
    "\n",
    "file_name = 'C:/Users/KHU/workspace_mj/X_ray/data_ver2/흑백.xlsx'\n",
    "keyword = \"위해물품\"\n",
    "\n",
    "df = pd.read_excel(file_name, header=None)\n",
    "items = df.apply(lambda row: extract_text_after_keyword(row[0], keyword), axis=1).tolist() # 2차원 배열 형태\n",
    "\n",
    "# Flatten the list\n",
    "items = list(set([item for sublist in items for item in sublist]))\n",
    "\n",
    "items.extend([\"Buttstock\", \"Self-defense spray\", \"Arrow tip\", \"Knuckle\", \"Solid fuel\"])\n",
    "items.remove(\"Bullet\")\n",
    "items.remove(\"Handscuffs\")\n",
    "print(items)"
   ]
  },
  {
   "cell_type": "code",
   "execution_count": 71,
   "id": "3044d9e1",
   "metadata": {},
   "outputs": [
    {
     "data": {
      "text/plain": [
       "65"
      ]
     },
     "execution_count": 71,
     "metadata": {},
     "output_type": "execute_result"
    }
   ],
   "source": [
    "len(items)"
   ]
  },
  {
   "cell_type": "code",
   "execution_count": 72,
   "id": "968f8a9f",
   "metadata": {},
   "outputs": [
    {
     "name": "stdout",
     "output_type": "stream",
     "text": [
      "{1: 'Pistol', 3: 'Rifle', 10: 'Shuriken-metal', 13: 'Self-defense spray', 14: 'Ax', 15: 'Knife-A', 12: 'Electroshock weapon', 16: 'Knife-F', 25: 'Knife-C', 26: 'Knife-D', 134: 'Knife-E', 28: 'Knife blade', 29: 'Surgical knife', 31: 'Butterfly knife', 34: 'Stratight razor-folding', 35: 'Scissors-A', 45: 'Scissors-E', 54: 'Crowbar', 57: 'Driver', 58: 'Chisel', 71: 'Awl', 73: 'Homi', 143: 'Hoe', 142: 'Hex key(over 10cm)', 86: 'Baton-folding', 90: 'Grenade', 91: 'Smoke grenade', 122: 'Firecracker', 126: 'Solid fuel', 131: 'Nunchaku', 6: 'Magazin', 23: 'Knife-B', 50: 'Hammer', 471: 'Card knife', 145: 'Kubotan', 136: 'Knife-G', 49: 'Knuckle', 72: 'Shovel', 141: 'Sickle', 61: 'Spanner', 67: 'Combination Plier', 75: 'Saw', 59: 'Monkey wrench', 454: 'Scissors-F', 32: 'Karambit', 55: 'Drill', 69: 'Long nose plier', 68: 'Nipper', 70: 'Vise plier', 30: 'Multipurpose knife', 473: 'Hazardous goods(metal)', 64: 'Podger ratcheting spanners', 76: 'Saw blade', 66: 'Ratchet handle', 11: 'Dart pin-metal', 146: 'Bow', 74: 'Bolt cutter', 65: 'Offset wrench', 60: 'Pipe wrench', 147: 'Arrow tip', 9: 'Speargun tip', 154: 'Buttstock', 137: 'Green onion slicer', 153: 'Drill bit(over 6cm)', 77: 'Electric saw'}\n"
     ]
    }
   ],
   "source": [
    "# 레이블 : 카테고리 (레이블 변환 전) 추출\n",
    "import json\n",
    "import os\n",
    "\n",
    "def get_categories(json_file): # 카테고리 구하기\n",
    "\n",
    "    with open(json_file) as file:\n",
    "        data = json.load(file)\n",
    "        \n",
    "    categories = data.get('categories', [])\n",
    "    for category in categories :\n",
    "        category_id = category['id']\n",
    "        if category_id not in category_dict :\n",
    "            if category['name'] in items :\n",
    "                category_id = category['id']\n",
    "                category_dict[category_id] = category['name']\n",
    "\n",
    "    return category_dict\n",
    "\n",
    "json_directory = 'C:/Users/KHU/workspace_mj/X_ray/data_ver2/json_unzip'\n",
    "\n",
    "category_dict = {}\n",
    "for json_file in os.listdir(json_directory):\n",
    "    if json_file.endswith('.json'):\n",
    "        json_path = os.path.join(json_directory, json_file)\n",
    "        category_dict = get_categories(json_path)\n",
    "\n",
    "print(category_dict)"
   ]
  },
  {
   "cell_type": "code",
   "execution_count": null,
   "id": "45cc44cb",
   "metadata": {},
   "outputs": [],
   "source": [
    "category_dict = {1: 'Pistol', 3: 'Rifle', 10: 'Shuriken-metal', 13: 'Self-defense spray', 14: 'Ax', 15: 'Knife-A', 12: 'Electroshock weapon', 16: 'Knife-F', 25: 'Knife-C', 26: 'Knife-D', 134: 'Knife-E', 28: 'Knife blade', 29: 'Surgical knife', 31: 'Butterfly knife', 34: 'Stratight razor-folding', 35: 'Scissors-A', 45: 'Scissors-E', 54: 'Crowbar', 57: 'Driver', 58: 'Chisel', 71: 'Awl', 73: 'Homi', 143: 'Hoe', 142: 'Hex key(over 10cm)', 86: 'Baton-folding', 90: 'Grenade', 91: 'Smoke grenade', 122: 'Firecracker', 126: 'Solid fuel', 131: 'Nunchaku', 6: 'Magazin', 23: 'Knife-B', 50: 'Hammer', 471: 'Card knife', 145: 'Kubotan', 136: 'Knife-G', 49: 'Knuckle', 72: 'Shovel', 141: 'Sickle', 61: 'Spanner', 67: 'Combination Plier', 75: 'Saw', 59: 'Monkey wrench', 454: 'Scissors-F', 32: 'Karambit', 55: 'Drill', 69: 'Long nose plier', 68: 'Nipper', 70: 'Vise plier', 30: 'Multipurpose knife', 473: 'Hazardous goods(metal)', 64: 'Podger ratcheting spanners', 76: 'Saw blade', 66: 'Ratchet handle', 11: 'Dart pin-metal', 146: 'Bow', 74: 'Bolt cutter', 65: 'Offset wrench', 60: 'Pipe wrench', 147: 'Arrow tip', 9: 'Speargun tip', 154: 'Buttstock', 137: 'Green onion slicer', 153: 'Drill bit(over 6cm)', 77: 'Electric saw'}"
   ]
  },
  {
   "cell_type": "code",
   "execution_count": 73,
   "id": "708bcabf",
   "metadata": {},
   "outputs": [
    {
     "name": "stdout",
     "output_type": "stream",
     "text": [
      "{1: 0, 3: 1, 6: 2, 9: 3, 10: 4, 11: 5, 12: 6, 13: 7, 14: 8, 15: 9, 16: 10, 23: 11, 25: 12, 26: 13, 28: 14, 29: 15, 30: 16, 31: 17, 32: 18, 34: 19, 35: 20, 45: 21, 49: 22, 50: 23, 54: 24, 55: 25, 57: 26, 58: 27, 59: 28, 60: 29, 61: 30, 64: 31, 65: 32, 66: 33, 67: 34, 68: 35, 69: 36, 70: 37, 71: 38, 72: 39, 73: 40, 74: 41, 75: 42, 76: 43, 77: 44, 86: 45, 90: 46, 91: 47, 122: 48, 126: 49, 131: 50, 134: 51, 136: 52, 137: 53, 141: 54, 142: 55, 143: 56, 145: 57, 146: 58, 147: 59, 153: 60, 154: 61, 454: 62, 471: 63, 473: 64}\n"
     ]
    }
   ],
   "source": [
    "# 기존 레이블 값을 0~n으로 변환하기 위한 작업\n",
    "sorted_keys = sorted(category_dict.keys())\n",
    "new_category_dict = {new_key: i for i, new_key in enumerate(sorted_keys)}\n",
    "\n",
    "print(new_category_dict)"
   ]
  },
  {
   "cell_type": "code",
   "execution_count": 77,
   "id": "81b00c24",
   "metadata": {},
   "outputs": [],
   "source": [
    "def convert_to_yolo_format(json_file, output_dir):\n",
    "    with open(json_file, 'r') as file:\n",
    "        data = json.load(file)\n",
    "\n",
    "    for image in data['images']:\n",
    "        image_id = image['id']\n",
    "        image_width = image['width']\n",
    "        image_height = image['height']\n",
    "        image_file_name = os.path.splitext(image['file_name'])[0]\n",
    "\n",
    "        annotations = [ann for ann in data['annotations'] if ann['image_id'] == image_id]\n",
    "        \n",
    "        yolo_annotations = []\n",
    "        for ann in annotations:\n",
    "            if ann['category_id'] in category_dict :\n",
    "                bbox = ann['bbox']\n",
    "                x_center = (bbox[0] + bbox[2] / 2) / image_width\n",
    "                y_center = (bbox[1] + bbox[3] / 2) / image_height\n",
    "                width = bbox[2] / image_width\n",
    "                height = bbox[3] / image_height\n",
    "                \n",
    "                org_category_id = ann['category_id']\n",
    "                category_id = new_category_dict[org_category_id]\n",
    "                \n",
    "                yolo_annotations.append(f\"{category_id} {x_center} {y_center} {width} {height}\")\n",
    "\n",
    "        yolo_file_name = os.path.join(output_dir, f\"{image_file_name}.txt\")\n",
    "        \n",
    "        with open(yolo_file_name, 'w') as yolo_file:\n",
    "            yolo_file.write('\\n'.join(yolo_annotations))\n",
    "            \n",
    "json_directory = 'C:/Users/KHU/workspace_mj/X_ray/data_ver2/json_unzip'\n",
    "output_directory = 'C:/Users/KHU/workspace_mj/X_ray/data_ver2/yololabels'\n",
    "\n",
    "os.makedirs(output_directory, exist_ok=True)\n",
    "\n",
    "for json_file in os.listdir(json_directory):\n",
    "    if json_file.endswith('.json'):\n",
    "        json_path = os.path.join(json_directory, json_file)\n",
    "        convert_to_yolo_format(json_path, output_directory)"
   ]
  },
  {
   "cell_type": "code",
   "execution_count": 75,
   "id": "3c4ccab0",
   "metadata": {},
   "outputs": [
    {
     "data": {
      "text/plain": [
       "{0: 'Pistol',\n",
       " 1: 'Rifle',\n",
       " 2: 'Magazin',\n",
       " 3: 'Speargun tip',\n",
       " 4: 'Shuriken-metal',\n",
       " 5: 'Dart pin-metal',\n",
       " 6: 'Electroshock weapon',\n",
       " 7: 'Self-defense spray',\n",
       " 8: 'Ax',\n",
       " 9: 'Knife-A',\n",
       " 10: 'Knife-F',\n",
       " 11: 'Knife-B',\n",
       " 12: 'Knife-C',\n",
       " 13: 'Knife-D',\n",
       " 14: 'Knife blade',\n",
       " 15: 'Surgical knife',\n",
       " 16: 'Multipurpose knife',\n",
       " 17: 'Butterfly knife',\n",
       " 18: 'Karambit',\n",
       " 19: 'Stratight razor-folding',\n",
       " 20: 'Scissors-A',\n",
       " 21: 'Scissors-E',\n",
       " 22: 'Knuckle',\n",
       " 23: 'Hammer',\n",
       " 24: 'Crowbar',\n",
       " 25: 'Drill',\n",
       " 26: 'Driver',\n",
       " 27: 'Chisel',\n",
       " 28: 'Monkey wrench',\n",
       " 29: 'Pipe wrench',\n",
       " 30: 'Spanner',\n",
       " 31: 'Podger ratcheting spanners',\n",
       " 32: 'Offset wrench',\n",
       " 33: 'Ratchet handle',\n",
       " 34: 'Combination Plier',\n",
       " 35: 'Nipper',\n",
       " 36: 'Long nose plier',\n",
       " 37: 'Vise plier',\n",
       " 38: 'Awl',\n",
       " 39: 'Shovel',\n",
       " 40: 'Homi',\n",
       " 41: 'Bolt cutter',\n",
       " 42: 'Saw',\n",
       " 43: 'Saw blade',\n",
       " 44: 'Electric saw',\n",
       " 45: 'Baton-folding',\n",
       " 46: 'Grenade',\n",
       " 47: 'Smoke grenade',\n",
       " 48: 'Firecracker',\n",
       " 49: 'Solid fuel',\n",
       " 50: 'Nunchaku',\n",
       " 51: 'Knife-E',\n",
       " 52: 'Knife-G',\n",
       " 53: 'Green onion slicer',\n",
       " 54: 'Sickle',\n",
       " 55: 'Hex key(over 10cm)',\n",
       " 56: 'Hoe',\n",
       " 57: 'Kubotan',\n",
       " 58: 'Bow',\n",
       " 59: 'Arrow tip',\n",
       " 60: 'Drill bit(over 6cm)',\n",
       " 61: 'Buttstock',\n",
       " 62: 'Scissors-F',\n",
       " 63: 'Card knife',\n",
       " 64: 'Hazardous goods(metal)'}"
      ]
     },
     "execution_count": 75,
     "metadata": {},
     "output_type": "execute_result"
    }
   ],
   "source": [
    "# category_names txt\n",
    "new_org_mapping = {v: category_dict[k] for k, v in new_category_dict.items()}\n",
    "new_org_mapping"
   ]
  },
  {
   "cell_type": "code",
   "execution_count": 78,
   "id": "df9cfda5",
   "metadata": {},
   "outputs": [
    {
     "name": "stdout",
     "output_type": "stream",
     "text": [
      "Mapping saved to C:/Users/KHU/workspace_mj/X_ray/data_ver2/category_names.txt\n"
     ]
    }
   ],
   "source": [
    "output_dir = 'C:/Users/KHU/workspace_mj/X_ray/data_ver2/category_names.txt'\n",
    "\n",
    "with open(output_dir, 'w') as file:\n",
    "    for key, value in new_org_mapping.items():\n",
    "        file.write(f\"{key}: {value}\\n\")\n",
    "\n",
    "print(f\"Mapping saved to {output_dir}\")"
   ]
  }
 ],
 "metadata": {
  "kernelspec": {
   "display_name": "Python 3 (ipykernel)",
   "language": "python",
   "name": "python3"
  },
  "language_info": {
   "codemirror_mode": {
    "name": "ipython",
    "version": 3
   },
   "file_extension": ".py",
   "mimetype": "text/x-python",
   "name": "python",
   "nbconvert_exporter": "python",
   "pygments_lexer": "ipython3",
   "version": "3.9.13"
  }
 },
 "nbformat": 4,
 "nbformat_minor": 5
}
